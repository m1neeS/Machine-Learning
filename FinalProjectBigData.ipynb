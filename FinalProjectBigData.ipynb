{
 "cells": [
  {
   "cell_type": "code",
   "execution_count": 1,
   "id": "34f724a8",
   "metadata": {},
   "outputs": [],
   "source": [
    "#import libraries yang di perlukan\n",
    "import pandas as pd\n",
    "import numpy as np\n",
    "import matplotlib.pyplot as plt\n",
    "import seaborn as sns\n",
    "%matplotlib inline\n",
    "import warnings \n",
    "warnings.filterwarnings('ignore')"
   ]
  },
  {
   "cell_type": "markdown",
   "id": "e8b693ec",
   "metadata": {},
   "source": [
    "## Data Understanding"
   ]
  },
  {
   "cell_type": "code",
   "execution_count": 2,
   "id": "67bf7631",
   "metadata": {},
   "outputs": [],
   "source": [
    "# membaca dataset\n",
    "df = pd.read_csv(\"/Machine Learning/DATA/insurance.csv\")"
   ]
  },
  {
   "cell_type": "code",
   "execution_count": 3,
   "id": "2a16e031",
   "metadata": {},
   "outputs": [
    {
     "data": {
      "text/html": [
       "<div>\n",
       "<style scoped>\n",
       "    .dataframe tbody tr th:only-of-type {\n",
       "        vertical-align: middle;\n",
       "    }\n",
       "\n",
       "    .dataframe tbody tr th {\n",
       "        vertical-align: top;\n",
       "    }\n",
       "\n",
       "    .dataframe thead th {\n",
       "        text-align: right;\n",
       "    }\n",
       "</style>\n",
       "<table border=\"1\" class=\"dataframe\">\n",
       "  <thead>\n",
       "    <tr style=\"text-align: right;\">\n",
       "      <th></th>\n",
       "      <th>age</th>\n",
       "      <th>sex</th>\n",
       "      <th>bmi</th>\n",
       "      <th>children</th>\n",
       "      <th>smoker</th>\n",
       "      <th>region</th>\n",
       "      <th>charges</th>\n",
       "    </tr>\n",
       "  </thead>\n",
       "  <tbody>\n",
       "    <tr>\n",
       "      <th>0</th>\n",
       "      <td>19</td>\n",
       "      <td>female</td>\n",
       "      <td>27.900</td>\n",
       "      <td>0</td>\n",
       "      <td>yes</td>\n",
       "      <td>southwest</td>\n",
       "      <td>16884.92400</td>\n",
       "    </tr>\n",
       "    <tr>\n",
       "      <th>1</th>\n",
       "      <td>18</td>\n",
       "      <td>male</td>\n",
       "      <td>33.770</td>\n",
       "      <td>1</td>\n",
       "      <td>no</td>\n",
       "      <td>southeast</td>\n",
       "      <td>1725.55230</td>\n",
       "    </tr>\n",
       "    <tr>\n",
       "      <th>2</th>\n",
       "      <td>28</td>\n",
       "      <td>male</td>\n",
       "      <td>33.000</td>\n",
       "      <td>3</td>\n",
       "      <td>no</td>\n",
       "      <td>southeast</td>\n",
       "      <td>4449.46200</td>\n",
       "    </tr>\n",
       "    <tr>\n",
       "      <th>3</th>\n",
       "      <td>33</td>\n",
       "      <td>male</td>\n",
       "      <td>22.705</td>\n",
       "      <td>0</td>\n",
       "      <td>no</td>\n",
       "      <td>northwest</td>\n",
       "      <td>21984.47061</td>\n",
       "    </tr>\n",
       "    <tr>\n",
       "      <th>4</th>\n",
       "      <td>32</td>\n",
       "      <td>male</td>\n",
       "      <td>28.880</td>\n",
       "      <td>0</td>\n",
       "      <td>no</td>\n",
       "      <td>northwest</td>\n",
       "      <td>3866.85520</td>\n",
       "    </tr>\n",
       "  </tbody>\n",
       "</table>\n",
       "</div>"
      ],
      "text/plain": [
       "   age     sex     bmi  children smoker     region      charges\n",
       "0   19  female  27.900         0    yes  southwest  16884.92400\n",
       "1   18    male  33.770         1     no  southeast   1725.55230\n",
       "2   28    male  33.000         3     no  southeast   4449.46200\n",
       "3   33    male  22.705         0     no  northwest  21984.47061\n",
       "4   32    male  28.880         0     no  northwest   3866.85520"
      ]
     },
     "execution_count": 3,
     "metadata": {},
     "output_type": "execute_result"
    }
   ],
   "source": [
    "# menampilkan 5 kolom teratas\n",
    "df.head()"
   ]
  },
  {
   "cell_type": "code",
   "execution_count": 4,
   "id": "7be006d7",
   "metadata": {},
   "outputs": [
    {
     "name": "stdout",
     "output_type": "stream",
     "text": [
      "<class 'pandas.core.frame.DataFrame'>\n",
      "RangeIndex: 1338 entries, 0 to 1337\n",
      "Data columns (total 7 columns):\n",
      " #   Column    Non-Null Count  Dtype  \n",
      "---  ------    --------------  -----  \n",
      " 0   age       1338 non-null   int64  \n",
      " 1   sex       1338 non-null   object \n",
      " 2   bmi       1338 non-null   float64\n",
      " 3   children  1338 non-null   int64  \n",
      " 4   smoker    1338 non-null   object \n",
      " 5   region    1338 non-null   object \n",
      " 6   charges   1338 non-null   float64\n",
      "dtypes: float64(2), int64(2), object(3)\n",
      "memory usage: 73.3+ KB\n"
     ]
    }
   ],
   "source": [
    "# info tentang dataset\n",
    "df.info()"
   ]
  },
  {
   "cell_type": "code",
   "execution_count": 5,
   "id": "222935ab",
   "metadata": {},
   "outputs": [
    {
     "data": {
      "text/html": [
       "<div>\n",
       "<style scoped>\n",
       "    .dataframe tbody tr th:only-of-type {\n",
       "        vertical-align: middle;\n",
       "    }\n",
       "\n",
       "    .dataframe tbody tr th {\n",
       "        vertical-align: top;\n",
       "    }\n",
       "\n",
       "    .dataframe thead th {\n",
       "        text-align: right;\n",
       "    }\n",
       "</style>\n",
       "<table border=\"1\" class=\"dataframe\">\n",
       "  <thead>\n",
       "    <tr style=\"text-align: right;\">\n",
       "      <th></th>\n",
       "      <th>age</th>\n",
       "      <th>bmi</th>\n",
       "      <th>children</th>\n",
       "      <th>charges</th>\n",
       "    </tr>\n",
       "  </thead>\n",
       "  <tbody>\n",
       "    <tr>\n",
       "      <th>count</th>\n",
       "      <td>1338.000000</td>\n",
       "      <td>1338.000000</td>\n",
       "      <td>1338.000000</td>\n",
       "      <td>1338.000000</td>\n",
       "    </tr>\n",
       "    <tr>\n",
       "      <th>mean</th>\n",
       "      <td>39.207025</td>\n",
       "      <td>30.663397</td>\n",
       "      <td>1.094918</td>\n",
       "      <td>13270.422265</td>\n",
       "    </tr>\n",
       "    <tr>\n",
       "      <th>std</th>\n",
       "      <td>14.049960</td>\n",
       "      <td>6.098187</td>\n",
       "      <td>1.205493</td>\n",
       "      <td>12110.011237</td>\n",
       "    </tr>\n",
       "    <tr>\n",
       "      <th>min</th>\n",
       "      <td>18.000000</td>\n",
       "      <td>15.960000</td>\n",
       "      <td>0.000000</td>\n",
       "      <td>1121.873900</td>\n",
       "    </tr>\n",
       "    <tr>\n",
       "      <th>25%</th>\n",
       "      <td>27.000000</td>\n",
       "      <td>26.296250</td>\n",
       "      <td>0.000000</td>\n",
       "      <td>4740.287150</td>\n",
       "    </tr>\n",
       "    <tr>\n",
       "      <th>50%</th>\n",
       "      <td>39.000000</td>\n",
       "      <td>30.400000</td>\n",
       "      <td>1.000000</td>\n",
       "      <td>9382.033000</td>\n",
       "    </tr>\n",
       "    <tr>\n",
       "      <th>75%</th>\n",
       "      <td>51.000000</td>\n",
       "      <td>34.693750</td>\n",
       "      <td>2.000000</td>\n",
       "      <td>16639.912515</td>\n",
       "    </tr>\n",
       "    <tr>\n",
       "      <th>max</th>\n",
       "      <td>64.000000</td>\n",
       "      <td>53.130000</td>\n",
       "      <td>5.000000</td>\n",
       "      <td>63770.428010</td>\n",
       "    </tr>\n",
       "  </tbody>\n",
       "</table>\n",
       "</div>"
      ],
      "text/plain": [
       "               age          bmi     children       charges\n",
       "count  1338.000000  1338.000000  1338.000000   1338.000000\n",
       "mean     39.207025    30.663397     1.094918  13270.422265\n",
       "std      14.049960     6.098187     1.205493  12110.011237\n",
       "min      18.000000    15.960000     0.000000   1121.873900\n",
       "25%      27.000000    26.296250     0.000000   4740.287150\n",
       "50%      39.000000    30.400000     1.000000   9382.033000\n",
       "75%      51.000000    34.693750     2.000000  16639.912515\n",
       "max      64.000000    53.130000     5.000000  63770.428010"
      ]
     },
     "execution_count": 5,
     "metadata": {},
     "output_type": "execute_result"
    }
   ],
   "source": [
    "# Persebaran dataset\n",
    "df.describe()"
   ]
  },
  {
   "cell_type": "code",
   "execution_count": 6,
   "id": "fc61bf1e",
   "metadata": {},
   "outputs": [
    {
     "data": {
      "text/plain": [
       "(1338, 7)"
      ]
     },
     "execution_count": 6,
     "metadata": {},
     "output_type": "execute_result"
    }
   ],
   "source": [
    "# menampilkan jumlah baris dan kolom dataset\n",
    "df.shape"
   ]
  },
  {
   "cell_type": "code",
   "execution_count": 7,
   "id": "4e077b13",
   "metadata": {},
   "outputs": [
    {
     "data": {
      "text/plain": [
       "Index(['age', 'sex', 'bmi', 'children', 'smoker', 'region', 'charges'], dtype='object')"
      ]
     },
     "execution_count": 7,
     "metadata": {},
     "output_type": "execute_result"
    }
   ],
   "source": [
    "# menampilkan nama - nama kolom di dataset\n",
    "df.columns"
   ]
  },
  {
   "cell_type": "markdown",
   "id": "8b425390",
   "metadata": {},
   "source": [
    "# EDA dan Data Visualization"
   ]
  },
  {
   "cell_type": "code",
   "execution_count": 8,
   "id": "97cb95e6",
   "metadata": {},
   "outputs": [
    {
     "data": {
      "text/plain": [
       "male      676\n",
       "female    662\n",
       "Name: sex, dtype: int64"
      ]
     },
     "execution_count": 8,
     "metadata": {},
     "output_type": "execute_result"
    }
   ],
   "source": [
    "# menghitung jumlah pria dan wanita\n",
    "df['sex'].value_counts()"
   ]
  },
  {
   "cell_type": "code",
   "execution_count": 9,
   "id": "15555545",
   "metadata": {},
   "outputs": [
    {
     "data": {
      "image/png": "[encoded data removed]",
      "text/plain": [
       "<Figure size 720x288 with 1 Axes>"
      ]
     },
     "metadata": {},
     "output_type": "display_data"
    }
   ],
   "source": [
    "# menganalisa kolom \"sex\" mneggunakan \"plot-pie\"\n",
    "plt.figure(figsize = (10,4))\n",
    "df['sex'].value_counts().plot(kind = \"pie\", autopct = \"%.2f%%\", colors = [\"blue\", \"Skyblue\"])\n",
    "plt.show()"
   ]
  },
  {
   "cell_type": "code",
   "execution_count": 10,
   "id": "46cdf12c",
   "metadata": {},
   "outputs": [
    {
     "data": {
      "text/plain": [
       "18    69\n",
       "19    68\n",
       "50    29\n",
       "51    29\n",
       "47    29\n",
       "46    29\n",
       "45    29\n",
       "20    29\n",
       "48    29\n",
       "52    29\n",
       "22    28\n",
       "49    28\n",
       "54    28\n",
       "53    28\n",
       "21    28\n",
       "26    28\n",
       "24    28\n",
       "25    28\n",
       "28    28\n",
       "27    28\n",
       "23    28\n",
       "43    27\n",
       "29    27\n",
       "30    27\n",
       "41    27\n",
       "42    27\n",
       "44    27\n",
       "31    27\n",
       "40    27\n",
       "32    26\n",
       "33    26\n",
       "56    26\n",
       "34    26\n",
       "55    26\n",
       "57    26\n",
       "37    25\n",
       "59    25\n",
       "58    25\n",
       "36    25\n",
       "38    25\n",
       "35    25\n",
       "39    25\n",
       "61    23\n",
       "60    23\n",
       "63    23\n",
       "62    23\n",
       "64    22\n",
       "Name: age, dtype: int64"
      ]
     },
     "execution_count": 10,
     "metadata": {},
     "output_type": "execute_result"
    }
   ],
   "source": [
    "# menghitung jumlah masing - masing umur\n",
    "df[\"age\"].value_counts()"
   ]
  },
  {
   "cell_type": "code",
   "execution_count": 11,
   "id": "5b36a935",
   "metadata": {},
   "outputs": [
    {
     "data": {
      "image/png": "[encoded data removed]",
      "text/plain": [
       "<Figure size 1080x720 with 1 Axes>"
      ]
     },
     "metadata": {
      "needs_background": "light"
     },
     "output_type": "display_data"
    }
   ],
   "source": [
    "plt.figure(figsize = (15,10))\n",
    "sns.countplot(df[\"age\"],palette='Set3')\n",
    "plt.show()"
   ]
  },
  {
   "cell_type": "code",
   "execution_count": 12,
   "id": "55732a85",
   "metadata": {},
   "outputs": [
    {
     "data": {
      "text/plain": [
       "32.300    13\n",
       "28.310     9\n",
       "30.495     8\n",
       "30.875     8\n",
       "31.350     8\n",
       "          ..\n",
       "46.200     1\n",
       "23.800     1\n",
       "44.770     1\n",
       "32.120     1\n",
       "30.970     1\n",
       "Name: bmi, Length: 548, dtype: int64"
      ]
     },
     "execution_count": 12,
     "metadata": {},
     "output_type": "execute_result"
    }
   ],
   "source": [
    "# menghitung jumlah bmi \n",
    "df['bmi'].value_counts()"
   ]
  },
  {
   "cell_type": "code",
   "execution_count": 13,
   "id": "30b2db28",
   "metadata": {},
   "outputs": [
    {
     "data": {
      "text/plain": [
       "<AxesSubplot:xlabel='bmi', ylabel='Density'>"
      ]
     },
     "execution_count": 13,
     "metadata": {},
     "output_type": "execute_result"
    },
    {
     "data": {
      "image/png": "[encoded data removed]",
      "text/plain": [
       "<Figure size 432x288 with 1 Axes>"
      ]
     },
     "metadata": {
      "needs_background": "light"
     },
     "output_type": "display_data"
    }
   ],
   "source": [
    "# Menganalisa menggunakan distplot\n",
    "sns.distplot(df[\"bmi\"], color = 'Skyblue')"
   ]
  },
  {
   "cell_type": "code",
   "execution_count": 14,
   "id": "29a8ba82",
   "metadata": {},
   "outputs": [
    {
     "data": {
      "text/plain": [
       "0    574\n",
       "1    324\n",
       "2    240\n",
       "3    157\n",
       "4     25\n",
       "5     18\n",
       "Name: children, dtype: int64"
      ]
     },
     "execution_count": 14,
     "metadata": {},
     "output_type": "execute_result"
    }
   ],
   "source": [
    "# menghitung jumlah 'children'\n",
    "df[\"children\"].value_counts()"
   ]
  },
  {
   "cell_type": "code",
   "execution_count": 15,
   "id": "fdc64422",
   "metadata": {},
   "outputs": [
    {
     "data": {
      "image/png": "[encoded data removed]",
      "text/plain": [
       "<Figure size 432x360 with 1 Axes>"
      ]
     },
     "metadata": {
      "needs_background": "light"
     },
     "output_type": "display_data"
    }
   ],
   "source": [
    "plt.figure(figsize=(6,5))\n",
    "sns.countplot(x='children',data=df,palette='Set3')\n",
    "plt.show()"
   ]
  },
  {
   "cell_type": "code",
   "execution_count": 16,
   "id": "e5c38904",
   "metadata": {},
   "outputs": [
    {
     "data": {
      "text/plain": [
       "no     1064\n",
       "yes     274\n",
       "Name: smoker, dtype: int64"
      ]
     },
     "execution_count": 16,
     "metadata": {},
     "output_type": "execute_result"
    }
   ],
   "source": [
    "# menghitung jumlah smoke or no smoke\n",
    "df[\"smoker\"].value_counts()"
   ]
  },
  {
   "cell_type": "code",
   "execution_count": 17,
   "id": "5fd7ec47",
   "metadata": {},
   "outputs": [
    {
     "data": {
      "text/plain": [
       "<AxesSubplot:ylabel='smoker'>"
      ]
     },
     "execution_count": 17,
     "metadata": {},
     "output_type": "execute_result"
    },
    {
     "data": {
      "image/png": "[encoded data removed]",
      "text/plain": [
       "<Figure size 432x288 with 1 Axes>"
      ]
     },
     "metadata": {},
     "output_type": "display_data"
    }
   ],
   "source": [
    "df[\"smoker\"].value_counts().plot(kind=\"pie\", explode=[0.2,0], colors = [\"blue\", \"skyblue\"])"
   ]
  },
  {
   "cell_type": "code",
   "execution_count": 18,
   "id": "97aae327",
   "metadata": {},
   "outputs": [
    {
     "data": {
      "text/plain": [
       "<Figure size 720x288 with 0 Axes>"
      ]
     },
     "metadata": {},
     "output_type": "display_data"
    },
    {
     "data": {
      "image/png": "[encoded data removed]",
      "text/plain": [
       "<Figure size 430.5x360 with 1 Axes>"
      ]
     },
     "metadata": {
      "needs_background": "light"
     },
     "output_type": "display_data"
    }
   ],
   "source": [
    "plt.figure(figsize = (10,4))\n",
    "sns.catplot(data=df, x = \"smoker\", kind=\"count\", hue=\"sex\", palette='Set3')\n",
    "plt.show()"
   ]
  },
  {
   "cell_type": "code",
   "execution_count": 19,
   "id": "3e2aeb0b",
   "metadata": {},
   "outputs": [
    {
     "data": {
      "text/plain": [
       "southeast    364\n",
       "southwest    325\n",
       "northwest    325\n",
       "northeast    324\n",
       "Name: region, dtype: int64"
      ]
     },
     "execution_count": 19,
     "metadata": {},
     "output_type": "execute_result"
    }
   ],
   "source": [
    "df['region'].value_counts()"
   ]
  },
  {
   "cell_type": "code",
   "execution_count": 20,
   "id": "1c18b362",
   "metadata": {},
   "outputs": [
    {
     "data": {
      "image/png": "[encoded data removed]",
      "text/plain": [
       "<Figure size 504x360 with 1 Axes>"
      ]
     },
     "metadata": {
      "needs_background": "light"
     },
     "output_type": "display_data"
    }
   ],
   "source": [
    "plt.figure(figsize=(7,5))\n",
    "sns.countplot(x='region',data=df,palette='viridis')\n",
    "plt.show()"
   ]
  },
  {
   "cell_type": "code",
   "execution_count": 21,
   "id": "dd106d7a",
   "metadata": {},
   "outputs": [
    {
     "data": {
      "text/plain": [
       "1639.56310     2\n",
       "16884.92400    1\n",
       "29330.98315    1\n",
       "2221.56445     1\n",
       "19798.05455    1\n",
       "              ..\n",
       "7345.08400     1\n",
       "26109.32905    1\n",
       "28287.89766    1\n",
       "1149.39590     1\n",
       "29141.36030    1\n",
       "Name: charges, Length: 1337, dtype: int64"
      ]
     },
     "execution_count": 21,
     "metadata": {},
     "output_type": "execute_result"
    }
   ],
   "source": [
    "df[\"charges\"].value_counts()"
   ]
  },
  {
   "cell_type": "code",
   "execution_count": 22,
   "id": "094b5127",
   "metadata": {},
   "outputs": [
    {
     "data": {
      "text/plain": [
       "<AxesSubplot:xlabel='charges', ylabel='Density'>"
      ]
     },
     "execution_count": 22,
     "metadata": {},
     "output_type": "execute_result"
    },
    {
     "data": {
      "image/png": "[encoded data removed]",
      "text/plain": [
       "<Figure size 432x288 with 1 Axes>"
      ]
     },
     "metadata": {
      "needs_background": "light"
     },
     "output_type": "display_data"
    }
   ],
   "source": [
    "sns.distplot(df[\"charges\"], color = \"green\")"
   ]
  },
  {
   "cell_type": "code",
   "execution_count": 23,
   "id": "c2d0d0e1",
   "metadata": {},
   "outputs": [
    {
     "data": {
      "image/png": "[encoded data removed]",
      "text/plain": [
       "<Figure size 432x288 with 1 Axes>"
      ]
     },
     "metadata": {
      "needs_background": "light"
     },
     "output_type": "display_data"
    }
   ],
   "source": [
    "# menganalisa Dataset Children vs charges\n",
    "sns.barplot(x=df.children,y=df.charges,palette='twilight').set(title=\"Children vs Charges\")\n",
    "plt.show()"
   ]
  },
  {
   "cell_type": "code",
   "execution_count": 24,
   "id": "6f5a1d50",
   "metadata": {},
   "outputs": [
    {
     "data": {
      "image/png": "[encoded data removed]",
      "text/plain": [
       "<Figure size 720x360 with 1 Axes>"
      ]
     },
     "metadata": {
      "needs_background": "light"
     },
     "output_type": "display_data"
    }
   ],
   "source": [
    "#menganalisa Smoker vs region\n",
    "plt.figure(figsize=(10,5))\n",
    "sns.countplot(x='region',hue='smoker',color='#92ba92',data=df).set(title=\"Smoker vs Region\")\n",
    "plt.show()\n"
   ]
  },
  {
   "cell_type": "code",
   "execution_count": 25,
   "id": "00e7dc1b",
   "metadata": {},
   "outputs": [
    {
     "data": {
      "image/png": "[encoded data removed]",
      "text/plain": [
       "<Figure size 720x1296 with 3 Axes>"
      ]
     },
     "metadata": {},
     "output_type": "display_data"
    }
   ],
   "source": [
    "box=df[['age','bmi','children']]\n",
    "plt.figure(figsize=(10,18), facecolor='white')\n",
    "plotnumber = 1\n",
    "\n",
    "for column in box:#acc\n",
    "    if plotnumber<=6 : # ada 9 kolom dalam data\n",
    "        ax = plt.subplot(4,1,plotnumber)#mengeplot 3 grapik\n",
    "        sns.boxplot(x=box[column])#boxplot untuk memeriksa outlier\n",
    "        plt.xlabel(column,fontsize=20)\n",
    "    plotnumber+=1 \n",
    "plt.show()"
   ]
  },
  {
   "cell_type": "code",
   "execution_count": 26,
   "id": "7c6b3635",
   "metadata": {},
   "outputs": [
    {
     "data": {
      "text/html": [
       "<div>\n",
       "<style scoped>\n",
       "    .dataframe tbody tr th:only-of-type {\n",
       "        vertical-align: middle;\n",
       "    }\n",
       "\n",
       "    .dataframe tbody tr th {\n",
       "        vertical-align: top;\n",
       "    }\n",
       "\n",
       "    .dataframe thead th {\n",
       "        text-align: right;\n",
       "    }\n",
       "</style>\n",
       "<table border=\"1\" class=\"dataframe\">\n",
       "  <thead>\n",
       "    <tr style=\"text-align: right;\">\n",
       "      <th></th>\n",
       "      <th>age</th>\n",
       "      <th>bmi</th>\n",
       "      <th>children</th>\n",
       "      <th>charges</th>\n",
       "    </tr>\n",
       "  </thead>\n",
       "  <tbody>\n",
       "    <tr>\n",
       "      <th>age</th>\n",
       "      <td>1.000000</td>\n",
       "      <td>0.109272</td>\n",
       "      <td>0.042469</td>\n",
       "      <td>0.299008</td>\n",
       "    </tr>\n",
       "    <tr>\n",
       "      <th>bmi</th>\n",
       "      <td>0.109272</td>\n",
       "      <td>1.000000</td>\n",
       "      <td>0.012759</td>\n",
       "      <td>0.198341</td>\n",
       "    </tr>\n",
       "    <tr>\n",
       "      <th>children</th>\n",
       "      <td>0.042469</td>\n",
       "      <td>0.012759</td>\n",
       "      <td>1.000000</td>\n",
       "      <td>0.067998</td>\n",
       "    </tr>\n",
       "    <tr>\n",
       "      <th>charges</th>\n",
       "      <td>0.299008</td>\n",
       "      <td>0.198341</td>\n",
       "      <td>0.067998</td>\n",
       "      <td>1.000000</td>\n",
       "    </tr>\n",
       "  </tbody>\n",
       "</table>\n",
       "</div>"
      ],
      "text/plain": [
       "               age       bmi  children   charges\n",
       "age       1.000000  0.109272  0.042469  0.299008\n",
       "bmi       0.109272  1.000000  0.012759  0.198341\n",
       "children  0.042469  0.012759  1.000000  0.067998\n",
       "charges   0.299008  0.198341  0.067998  1.000000"
      ]
     },
     "execution_count": 26,
     "metadata": {},
     "output_type": "execute_result"
    }
   ],
   "source": [
    "df.corr()"
   ]
  },
  {
   "cell_type": "code",
   "execution_count": 27,
   "id": "84a5ea6d",
   "metadata": {},
   "outputs": [
    {
     "data": {
      "text/plain": [
       "<AxesSubplot:>"
      ]
     },
     "execution_count": 27,
     "metadata": {},
     "output_type": "execute_result"
    },
    {
     "data": {
      "image/png": "[encoded data removed]",
      "text/plain": [
       "<Figure size 720x576 with 2 Axes>"
      ]
     },
     "metadata": {
      "needs_background": "light"
     },
     "output_type": "display_data"
    }
   ],
   "source": [
    "plt.figure(figsize = (10,8))\n",
    "sns.heatmap(data = df.corr(), annot = True, cmap = \"Blues\")"
   ]
  },
  {
   "cell_type": "markdown",
   "id": "173b14a8",
   "metadata": {},
   "source": [
    "## Data Preprocessing"
   ]
  },
  {
   "cell_type": "code",
   "execution_count": 28,
   "id": "47fd6226",
   "metadata": {},
   "outputs": [
    {
     "data": {
      "text/plain": [
       "age         0\n",
       "sex         0\n",
       "bmi         0\n",
       "children    0\n",
       "smoker      0\n",
       "region      0\n",
       "charges     0\n",
       "dtype: int64"
      ]
     },
     "execution_count": 28,
     "metadata": {},
     "output_type": "execute_result"
    }
   ],
   "source": [
    "# menampilkan missing value\n",
    "df.isnull().sum()"
   ]
  },
  {
   "cell_type": "code",
   "execution_count": 29,
   "id": "ce55288f",
   "metadata": {},
   "outputs": [],
   "source": [
    "#mengubah setiap nilai dalam kolom menjadi angka yang berurutan.\n",
    "from sklearn.preprocessing import LabelEncoder\n",
    "#sex\n",
    "le = LabelEncoder()\n",
    "le.fit(df.sex.drop_duplicates()) \n",
    "df.sex = le.transform(df.sex)\n",
    "# smoker or not\n",
    "le.fit(df.smoker.drop_duplicates()) \n",
    "df.smoker = le.transform(df.smoker)\n",
    "#region\n",
    "le.fit(df.region.drop_duplicates()) \n",
    "df.region = le.transform(df.region)"
   ]
  },
  {
   "cell_type": "code",
   "execution_count": 30,
   "id": "a6811553",
   "metadata": {},
   "outputs": [
    {
     "data": {
      "text/html": [
       "<div>\n",
       "<style scoped>\n",
       "    .dataframe tbody tr th:only-of-type {\n",
       "        vertical-align: middle;\n",
       "    }\n",
       "\n",
       "    .dataframe tbody tr th {\n",
       "        vertical-align: top;\n",
       "    }\n",
       "\n",
       "    .dataframe thead th {\n",
       "        text-align: right;\n",
       "    }\n",
       "</style>\n",
       "<table border=\"1\" class=\"dataframe\">\n",
       "  <thead>\n",
       "    <tr style=\"text-align: right;\">\n",
       "      <th></th>\n",
       "      <th>age</th>\n",
       "      <th>sex</th>\n",
       "      <th>bmi</th>\n",
       "      <th>children</th>\n",
       "      <th>smoker</th>\n",
       "      <th>region</th>\n",
       "      <th>charges</th>\n",
       "    </tr>\n",
       "  </thead>\n",
       "  <tbody>\n",
       "    <tr>\n",
       "      <th>0</th>\n",
       "      <td>19</td>\n",
       "      <td>0</td>\n",
       "      <td>27.900</td>\n",
       "      <td>0</td>\n",
       "      <td>1</td>\n",
       "      <td>3</td>\n",
       "      <td>16884.92400</td>\n",
       "    </tr>\n",
       "    <tr>\n",
       "      <th>1</th>\n",
       "      <td>18</td>\n",
       "      <td>1</td>\n",
       "      <td>33.770</td>\n",
       "      <td>1</td>\n",
       "      <td>0</td>\n",
       "      <td>2</td>\n",
       "      <td>1725.55230</td>\n",
       "    </tr>\n",
       "    <tr>\n",
       "      <th>2</th>\n",
       "      <td>28</td>\n",
       "      <td>1</td>\n",
       "      <td>33.000</td>\n",
       "      <td>3</td>\n",
       "      <td>0</td>\n",
       "      <td>2</td>\n",
       "      <td>4449.46200</td>\n",
       "    </tr>\n",
       "    <tr>\n",
       "      <th>3</th>\n",
       "      <td>33</td>\n",
       "      <td>1</td>\n",
       "      <td>22.705</td>\n",
       "      <td>0</td>\n",
       "      <td>0</td>\n",
       "      <td>1</td>\n",
       "      <td>21984.47061</td>\n",
       "    </tr>\n",
       "    <tr>\n",
       "      <th>4</th>\n",
       "      <td>32</td>\n",
       "      <td>1</td>\n",
       "      <td>28.880</td>\n",
       "      <td>0</td>\n",
       "      <td>0</td>\n",
       "      <td>1</td>\n",
       "      <td>3866.85520</td>\n",
       "    </tr>\n",
       "  </tbody>\n",
       "</table>\n",
       "</div>"
      ],
      "text/plain": [
       "   age  sex     bmi  children  smoker  region      charges\n",
       "0   19    0  27.900         0       1       3  16884.92400\n",
       "1   18    1  33.770         1       0       2   1725.55230\n",
       "2   28    1  33.000         3       0       2   4449.46200\n",
       "3   33    1  22.705         0       0       1  21984.47061\n",
       "4   32    1  28.880         0       0       1   3866.85520"
      ]
     },
     "execution_count": 30,
     "metadata": {},
     "output_type": "execute_result"
    }
   ],
   "source": [
    "df.head()"
   ]
  },
  {
   "cell_type": "code",
   "execution_count": 31,
   "id": "669379e1",
   "metadata": {},
   "outputs": [],
   "source": [
    "#variabel independen\n",
    "X=df.drop(['charges'],axis=1)\n",
    "#variable dependen\n",
    "y=df.charges"
   ]
  },
  {
   "cell_type": "markdown",
   "id": "8930dacd",
   "metadata": {},
   "source": [
    "## Model "
   ]
  },
  {
   "cell_type": "code",
   "execution_count": 32,
   "id": "3e0604b5",
   "metadata": {},
   "outputs": [],
   "source": [
    "# menginport library pembagi  dataset train dan test\n",
    "from sklearn.model_selection import train_test_split"
   ]
  },
  {
   "cell_type": "code",
   "execution_count": 33,
   "id": "2a3c3f38",
   "metadata": {},
   "outputs": [],
   "source": [
    "X_train , X_test, y_train, y_test = train_test_split(X,y, test_size = 0.3, random_state = 0)"
   ]
  },
  {
   "cell_type": "code",
   "execution_count": 34,
   "id": "45acdf1b",
   "metadata": {},
   "outputs": [
    {
     "name": "stdout",
     "output_type": "stream",
     "text": [
      "(936, 6) (402, 6) (936,) (402,)\n"
     ]
    }
   ],
   "source": [
    "print(X_train.shape, X_test.shape, y_train.shape, y_test.shape)"
   ]
  },
  {
   "cell_type": "markdown",
   "id": "724e28ab",
   "metadata": {},
   "source": [
    "## LinearRegression"
   ]
  },
  {
   "cell_type": "code",
   "execution_count": 35,
   "id": "27beb841",
   "metadata": {},
   "outputs": [],
   "source": [
    "# menginport algoritma LinearRegression\n",
    "from sklearn.linear_model import LinearRegression"
   ]
  },
  {
   "cell_type": "code",
   "execution_count": 36,
   "id": "abdc71d2",
   "metadata": {},
   "outputs": [],
   "source": [
    "lr = LinearRegression()"
   ]
  },
  {
   "cell_type": "code",
   "execution_count": 39,
   "id": "0e01a97f",
   "metadata": {},
   "outputs": [
    {
     "data": {
      "text/plain": [
       "LinearRegression()"
      ]
     },
     "execution_count": 39,
     "metadata": {},
     "output_type": "execute_result"
    }
   ],
   "source": [
    "lr.fit(X_train,y_train)"
   ]
  },
  {
   "cell_type": "code",
   "execution_count": 40,
   "id": "32a07381",
   "metadata": {},
   "outputs": [],
   "source": [
    "x_train_predict = lr.predict(X_train)"
   ]
  },
  {
   "cell_type": "code",
   "execution_count": 41,
   "id": "635efb7b",
   "metadata": {},
   "outputs": [
    {
     "data": {
      "text/plain": [
       "array([ 2074.0645306 ,  8141.81393908, 18738.94132528,  7874.86959064,\n",
       "        6305.12726989,  2023.19725425, 26861.18663021, 14932.93021746,\n",
       "       10489.56733846, 16254.02800921, 11726.39324257, 11284.0092172 ,\n",
       "       39312.16870908,  5825.91078917, 12314.92042527,  3164.68427134,\n",
       "       15406.30681252,  4648.58167988,  5011.79585436,  6012.4796038 ,\n",
       "       15349.49652486,  8970.97358853,  8780.43012222, 34229.60622887,\n",
       "        6700.80932636, 26943.25864121, 27280.48004482, 15477.83837581,\n",
       "        8825.62578924, 34394.38378457, 10177.85528603,  3901.18161227,\n",
       "       15608.58732963, 29584.76846515, 29453.37088923, 28132.67012427,\n",
       "       10003.22154888, 33049.08935397,  3963.45204974, 25461.54857001,\n",
       "        5656.76892592, 27993.86773531,  7049.4472544 , 15100.38851758,\n",
       "        2552.92266861, 35458.5756605 , 15250.90732084,  3190.28483443,\n",
       "        1768.85441295, 10155.17603664,  9937.89476088, 11225.91583863,\n",
       "       16776.25691816,  4332.14442527,  1904.56473771,  4169.01766783,\n",
       "        5586.26152347,  6181.88067913, 26788.8656339 , 14126.13855797,\n",
       "       11861.37395532,  7811.00983646, 14043.16898219,  2761.62716836,\n",
       "       13245.886833  , 11768.08899683,  1979.53264953,  1004.70130715,\n",
       "       36800.01548491,  7337.39948485,  9016.87626313,  2197.43885099,\n",
       "       11522.76560606,  7722.68648352, 11766.49141567, 25673.41065575,\n",
       "       27094.55413975,  8386.55039897,  7851.02612612,   340.5541035 ,\n",
       "        4812.77154806,  7653.38621355,  3335.8737924 ,  8277.91415433,\n",
       "        1727.07582017,  4469.3512268 , 33273.43493881,  5960.10203273,\n",
       "       11514.72887612,  9076.67077562, 31445.7194256 , 11381.75279488,\n",
       "       11464.45517614,  4744.19913099,  6959.16143068,  5558.39697169,\n",
       "        5082.89311652,  9788.2815884 , 31360.93228849,  3182.21328435,\n",
       "       37708.34391043, 10814.52053521,  8936.63917176,  3082.15463971,\n",
       "       11928.53837714, 30612.08362018,  2768.14633037,  5859.36717165,\n",
       "       11271.63384986, 10014.30225729,  6043.73686629, 12975.42245732,\n",
       "       12066.96034099, 28052.15863473, 11361.56357043, 11060.29810116,\n",
       "       14348.98304548, 12312.23589186, 28147.75655535, 11823.51072484,\n",
       "       12848.87384573, 15178.13163272,  4197.13873747, 28308.19263972,\n",
       "        8971.99085308, 28732.62186124, 11179.06619869,  6579.03176313,\n",
       "       13059.30213716, 14726.65831226,  9783.6398503 ,  2444.05494314,\n",
       "        5724.67349993,  2786.36526883,  5696.67137344, -1003.82184963,\n",
       "       14605.31776434,  3995.13441381, 10503.83704955, 13075.10394921,\n",
       "       11394.53019512,  9261.88891647, 13608.73784577,  1042.57486857,\n",
       "       11340.66753684,  9273.62568527,  8281.21400296, 14977.26865395,\n",
       "       12554.43628217, 29821.10868267, 17471.58043595, 10459.61280091,\n",
       "        9389.23502709, 12782.30564709,  5788.18196996, 15693.65157911,\n",
       "        7291.38867849,  5634.70792056, 31414.11538842, 13661.85253666,\n",
       "       12990.82789567, 12116.96433071, 12483.56884527,  5245.19260841,\n",
       "        2720.97048488,  3967.45298094,  5831.18485508,   336.78003257,\n",
       "        8327.6083617 ,  7788.78193696,  5978.53780791, 14780.22108067,\n",
       "        4154.59712226,  7660.7596099 ,  4986.40913178,   808.63142297,\n",
       "        6347.28680981,  6028.99252197,  3002.31581222, 30358.06082481,\n",
       "       10242.8271406 , 12160.459422  , 36713.30683683,  5484.52486596,\n",
       "       13900.01813071,  1032.83264035,  7075.58814557, 25622.72563058,\n",
       "       10388.5347597 ,  5748.21820814, 15638.72505346,  8412.71678181,\n",
       "       33607.43410022, 12873.4767783 ,  9089.752017  , 11495.39625664,\n",
       "       29552.08877794,  4833.05771099,  8535.10872516, 10379.54084243,\n",
       "        2480.53742917, 33644.40927286, 26048.49780558, 12539.77833076,\n",
       "        7288.62030409,  6523.97395347, 33590.95177474, 34304.29013204,\n",
       "       10903.83077465, 28227.37382203, 33047.75080641,  4484.39001642,\n",
       "       33279.27378584,  9131.498238  , 33409.39957307, 26078.36522976,\n",
       "       13348.90616834, 12332.40769064,  5643.77644808, 15413.40505405,\n",
       "       10751.99223385,  4512.13100449, 14657.52748835, 16829.95674466,\n",
       "        2761.72430528,  7501.05082023, 34047.62899298, -2007.51465386,\n",
       "        4961.00911327, 11317.6348311 , 14807.90116752,  9435.27403931,\n",
       "        -174.72351449, 37372.501456  ,  3762.34340068, 15752.87879474,\n",
       "        4533.80783189,  2098.27922285, 10611.76084205, 11035.74435668,\n",
       "       15662.70306033,  8452.46307921, 38420.53380273, 10153.96721241,\n",
       "       11949.02953257,  4513.62352998, 12416.5499223 , 26496.89917632,\n",
       "        9790.09769801,  6000.9083136 , 10006.79989424, 25365.92932362,\n",
       "       10336.38146363, 10881.45558102,  8959.58819878, 15429.29849108,\n",
       "        3007.7593242 , -1527.1369542 ,   595.0082712 , 28619.70924858,\n",
       "        5735.13445102, 13970.64440894,  3305.77699221, 34409.46642665,\n",
       "        3043.17108273,  9053.67241541,  8038.69942437, 13921.55865666,\n",
       "        8610.49602819, -1661.86948091,  7849.37339028, 12779.93729567,\n",
       "       11037.97419828,  5255.92758077, 27495.79302831, 17224.77382277,\n",
       "       18593.63259562,  2746.80146262,  5275.27563221, 11085.22524556,\n",
       "        6570.01359126,  8302.25598465,  5367.40939532, 13799.54616716,\n",
       "        2045.94198386,  7402.89767646,  3764.4410032 ,  1760.64721451,\n",
       "        9363.07450189,  6140.38557298,  1314.37779181, 11671.78227335,\n",
       "        8736.5725223 , 39286.25467818, 13249.36687172, 30803.50766988,\n",
       "       24424.72359513, 13298.04012908,  7847.50609887,  4020.34673658,\n",
       "        6470.53340058,  8103.13157642, 17572.38934907,  5463.80240816,\n",
       "        1720.72220413,  4483.63471429, 11235.6798057 ,  4871.80772605,\n",
       "        9599.55423169, 10504.32504824, 10086.4072409 , 11529.5329541 ,\n",
       "       35005.12140493, 10147.62707077, 10703.7386335 , 28556.89108092,\n",
       "        1869.72444194,   875.61483071, 10028.75005365,  4457.93180971,\n",
       "        6874.73842656,  3154.99749978,  7407.75407908, 23047.8677789 ,\n",
       "       11941.32287211,  5679.85229684,  3962.30629893, 17379.22814439,\n",
       "        7399.8475945 ,  1220.25651548,  1129.73035709,  7875.37201881,\n",
       "        8723.40864086,  6913.75960144,  9128.65976282,  8758.06405861,\n",
       "       11131.81608651, 34937.02999535,  5430.86984699,  3487.3144824 ,\n",
       "       10685.02032677,  6036.76635438,  8038.75071512,  9348.7407623 ,\n",
       "        9517.12218624, 10281.87645397,  6180.09405404,  9625.27921867,\n",
       "       27611.14409316, 22788.54080536, 10608.81341111,  8996.37360704,\n",
       "        -558.16181714, 24628.92851588,  5865.38954851,  2007.1668902 ,\n",
       "        5697.77720309, 28148.35347362, 16246.80713907, 38680.33998848,\n",
       "       16153.55207819, 14308.20748622,  3608.9664882 , 25485.86708084,\n",
       "       10486.72886328, 13810.33483707, 13482.47816538,  3816.33829804,\n",
       "        9835.63469515, 38393.62988914, 25686.53285693,  4480.81828534,\n",
       "       14174.70048894, 31679.26284821,  6536.16893229, 28213.86609471,\n",
       "        6511.88155615, 11748.28032857,  8378.82241274, 12138.97948989,\n",
       "        3899.8430647 , 12455.56775743, 13407.92219028,  4314.22620068,\n",
       "       12606.33253837, 16817.53373587, 25600.61877905, 13254.55530136,\n",
       "       27856.96498955, 26774.1696515 ,  8299.11875315, 11924.78780417,\n",
       "       36037.02555559, 11753.51147713,  9612.83188791, 11739.85825097,\n",
       "       10857.95138337,  8260.13988411,  5201.97267194,  1414.13238067,\n",
       "       27489.15709534, 11915.98981091, 13498.35913048, -1151.92131812,\n",
       "        7634.13406195,  5086.2804916 , 13266.85964902, 10251.31617551,\n",
       "        8209.36805295, 31277.78662118,  9396.65937063,  2914.69041458,\n",
       "       11579.02586027, 11369.15838247,  7002.34702162, 14286.69121486,\n",
       "        9886.13408567, 11560.46014711, 12107.01166543,  5594.18640499,\n",
       "        3102.26981212, 40510.36178217, 13233.33826677, 14972.36619052,\n",
       "        9093.48440766,  5307.31451251, 10035.94877401,  4833.05771099,\n",
       "        9163.14783934, 13681.31852877,  3408.34583782,  3668.15202357,\n",
       "        9130.39240835,  4614.12170568,  5867.27324315,  9141.0565233 ,\n",
       "        5619.25739267, 26202.46161277,  4336.10619194,  5337.72298523,\n",
       "        5694.49405967,  9241.05753909,  4798.70417681, 14813.45552543,\n",
       "       16596.10164952, 26512.17612842, 35981.64750157,  1959.90820619,\n",
       "       36628.00590197,  3298.04607716, 15743.67103696,  7010.02746994,\n",
       "        6347.73481996, 30232.95082653, 13712.03943065, 11112.45139724,\n",
       "        8252.63752105,  2513.08863012, 16022.56454881, 30459.9171821 ,\n",
       "        -427.99018373,  8906.44312983,  9669.66904945,  8958.77368717,\n",
       "       14004.86476893,  5395.14077291,  4647.69485912, 12769.68023106,\n",
       "       26256.35833457, 17109.23881501, 29301.61601095, 16148.84338277,\n",
       "        8556.74931687, 10884.76304641, 15069.21096634, 11742.80568191,\n",
       "       11463.29020438, 24798.33579241, 32935.05127763,  9447.01284923,\n",
       "       11263.82198647, 27058.19135351,  3727.17273344,  6235.37996105,\n",
       "        5634.34788611, 11375.81271239, 38459.90260383, 33433.3327724 ,\n",
       "       27019.20779653, 14322.90346862, 35753.77813666, 39828.81704797,\n",
       "        2699.20978031, 26544.92005876,  5801.67791461, 36691.80475494,\n",
       "        5617.15382896, 11295.79287081,  2493.45312458, 35065.32086295,\n",
       "       15536.91747116,  7518.89601523, 12487.81679279,  5146.29149725,\n",
       "       10989.0257861 , 29309.49211747,  7929.03120369, 25165.38545566,\n",
       "       11350.99073475,  -475.42203046, 33144.5020946 , 11932.14914167,\n",
       "        6894.95886927, 10950.8802387 , 28374.49301829, 10807.39484445,\n",
       "       -1064.45853761,  4115.66609311,  8268.49123537,  3784.09414906,\n",
       "        2774.7626293 , 11855.25774512,  8177.53860723, 33326.87290643,\n",
       "       13311.213621  ,  3368.65061653,  5990.26307605, 31353.20430226,\n",
       "       10868.45997592,  1608.81535536, 36756.69056015,  9579.68800196,\n",
       "       37118.83359406,  6737.15570938, 14266.57428335,  7277.05276671,\n",
       "       28664.76681887,  4180.8442388 , 17098.94258587, 11755.05067281,\n",
       "        9021.81454919, 36337.66492945, 13409.58694339, 18326.21509106,\n",
       "       15804.69637834, 38144.49443262, 12048.36352931, 31174.86242905,\n",
       "        9060.68719286,  4092.43208616,  9289.88436131, 12449.75219373,\n",
       "       12073.6146709 ,  9113.53240811, 15192.82761512,   160.75522003,\n",
       "        6921.21946022, 11490.29535344,  4314.73552513, 13438.47878328,\n",
       "       32539.6930199 , 10717.0621359 , 24929.94531866, 26624.25073151,\n",
       "       14294.43414719, 14288.99239433, 14372.04877609,  6770.64009929,\n",
       "       31205.7216261 , 15083.41098975, 30158.82528863,  6200.01942589,\n",
       "        1774.43309283, 29747.46460692,  7953.685427  , 32171.69491421,\n",
       "       33427.66435771, 32748.21650557,  3092.17933212,  9141.18500956,\n",
       "       10111.37020792,  9824.90047942, 31549.84065928, 29998.83207722,\n",
       "        7646.49792864, 30873.89537255, 11157.72549685,  8186.36855919,\n",
       "        4408.84133334, 30038.08221719, 11471.82312792, 15727.56734133,\n",
       "       16383.80261583,  7216.76849643,  3699.44217986,  5559.23894873,\n",
       "       31566.87581596,  5889.9466349 ,  6328.93270344, 11287.53028309,\n",
       "       14483.10097743,  7206.65053103, 10462.63011798, 15844.7261424 ,\n",
       "       11202.6972998 ,  3837.37438591,  5123.40984062, 28578.1646108 ,\n",
       "       35209.07741918, 10410.29798001,  9695.28848994,  7600.61853736,\n",
       "       10526.82486419,  7367.31527095, 17310.0718288 , 29770.30940228,\n",
       "       14635.81555879, 12267.0564496 ,  1345.6350543 , 15089.69033911,\n",
       "        2118.44399426,  9053.17897216, 13592.22826951, 14556.23962882,\n",
       "        7350.61706384, 13969.7838365 ,  6316.87165544, 11433.95173869,\n",
       "        9861.8521541 ,  4868.79429288,  9453.53569669,  2213.96975302,\n",
       "       14310.15331917,  3269.78209179,  2457.26343368,  7220.17468154,\n",
       "       15676.58535511,  8709.45135892, 11537.76347204, 31453.50069629,\n",
       "        5892.44470966,  1606.04893851, 16092.29109007,  7179.89432464,\n",
       "       12098.79668299, 11546.25196496, 11024.43385918,  8782.46341424,\n",
       "       12067.34662375, 16686.95993848,  7561.89890035, 11550.23408612,\n",
       "       36562.98492885,  5247.03713852,  7488.80882552, 40162.43654089,\n",
       "        9980.72073046,  4842.04570325, 12197.3512341 ,  3883.85730975,\n",
       "       39129.25884243, 33354.87792557, 14737.47640514, -1020.31179186,\n",
       "       13598.22925322, 30824.51337969, 29199.50654508, 11164.40039591,\n",
       "        5418.27543458,  2088.52527934, 14678.31343263,  3383.02748811,\n",
       "        7092.1833581 ,  2041.64891063, 29497.33148371, 32647.67654606,\n",
       "       34788.94202753, 12711.11890093, 19045.09044796,  7757.19595318,\n",
       "       39023.90990712,  9225.09100509,  3518.36647621, 12773.18166292,\n",
       "        8205.09754257, 36856.66567118, 11326.07162019,  7960.73237778,\n",
       "        4249.3570333 ,  2898.02978921,  6113.87972482, 12992.03795697,\n",
       "       29178.74316365, 11407.06997487,  6155.49528738, 27481.9362252 ,\n",
       "       30491.18323106, 11411.20700908,  2582.23116932, 12710.90360869,\n",
       "       34520.23286023, 33995.50704623, 29536.27580879,  2644.55296491,\n",
       "       12245.7057242 ,  7713.04262932,  2193.9413866 ,  3721.18700322,\n",
       "        8522.64062682,  9667.49831378,  9419.15959966,  6859.81640791,\n",
       "        3388.60733771,  9754.63833418, 14595.61949213,  9533.86324333,\n",
       "        5516.87834761, 16087.26641111,  8140.34022361, -1925.08853342,\n",
       "       12003.19114562, 13325.59049258, 33278.14832215, 27052.11017809,\n",
       "       11616.66711686,  8352.99980838, 13631.64395543, 29166.67739155,\n",
       "       17533.71828863,  6263.11615765, 12084.95441291,  9311.23580717,\n",
       "       29422.74753735,  8334.82923184, 31869.23826103, 13462.86153724,\n",
       "        4804.96512923, 17522.07390146, 28317.90490297,  -194.59342968,\n",
       "         331.41840404,  3263.57535894,  6299.94665545, 27175.36269388,\n",
       "        4339.76180018, 10203.29446907,  7721.03550679, 12060.83924441,\n",
       "       26650.28934856, 15723.30058378, 35379.92237391, 31854.7942175 ,\n",
       "        6875.61570421, 34026.63582246, 14314.80614484,  7246.99595506,\n",
       "        7518.97989239, 10246.57947268,  9296.37551589, 12387.47999714,\n",
       "        9139.22821795, 12185.24629748,  7044.17098013,  3819.29061535,\n",
       "       30588.65313102,  3325.59644066,  8583.84281638,  6823.77115184,\n",
       "        3385.35292217, 12687.32304169,   643.29476534,   555.58086997,\n",
       "       12302.54443237, 16411.99819216,  8345.62183304, 10026.41869457,\n",
       "       35681.52730849, 35438.7174606 , 13315.48895038,  6158.30755041,\n",
       "        1992.25658684, 12474.86234593, 33056.6821723 , 13356.50098038,\n",
       "       35453.02299432, 14015.61861869, 10011.0958963 , 12553.24878372,\n",
       "        4832.8766969 ,  5189.33241335,  6975.05786391, 16219.65859383,\n",
       "       12136.47597056,  8955.88539834, 34217.35169486,  3016.29734875,\n",
       "       24683.13870549, 38421.16354743, 12600.0002481 , 10644.80327789,\n",
       "       16749.16571975, 34831.9650687 , 34877.5449832 ,  8247.2283546 ,\n",
       "        9941.60165986, 12266.29301409, 34203.01181562, 14889.57680482,\n",
       "        4023.79366686,  6592.19564458,  6762.4019646 , 16260.15496343,\n",
       "       35577.74547275,  6526.02006681, 12163.89860445, 36173.52090744,\n",
       "        9279.79952432,  4260.14963451,  9763.52467789,  4639.60484472,\n",
       "        6922.95210575, 12969.7550139 ,  4256.73969657, 12430.70192733,\n",
       "       15777.35011379, 30773.46708298, 11336.40956576, 33606.53946427,\n",
       "       14480.29750087,  8522.19179267, 32455.51011045, 30338.68728169,\n",
       "       12031.10154357, 31277.70274402, 10589.56718453,  3267.02739023,\n",
       "       10486.27634367, 11817.9016669 , 11018.86648151, 30602.13536665,\n",
       "       10627.82575006,  5543.75208159,  9979.28094743,  2024.40731556,\n",
       "       36680.24014639,  7007.22815929,  3594.5490699 ,  2707.91083509,\n",
       "        7220.70026195, 29148.27337663, 27048.06160544, 13779.98868113,\n",
       "        1249.95253605, 29607.93237133, -1316.43322594,  3836.21602843,\n",
       "       26051.33452165, 11557.145869  ,   198.44776737,  6129.24544046,\n",
       "        1080.53148314, 14633.39591662, 14243.30696952, 10577.01100155,\n",
       "        3684.11562875, 29818.68446151, 32645.16083099,  6814.62074089,\n",
       "       17990.69760509,  9501.45430502, 13096.05168663, 10131.77648372,\n",
       "       10314.27461209,  3059.58352207, 10947.36144854,  9175.55641866,\n",
       "        5794.96602322, 26970.5619884 , 10579.87748415,  5935.06772785,\n",
       "       32505.66662638, 13113.41966313,  2006.18837709, 15066.19364927,\n",
       "       10464.17148585,  7117.77806354,  2075.48695532,  5444.3979288 ,\n",
       "       26309.98534611,   498.36583523,   -53.00017083, 31878.55790341,\n",
       "         843.33151719, 13535.24091903,  6425.419617  ,  9657.95890588,\n",
       "       36864.03879134,   937.11209112, 40474.11036389, 11641.54038524,\n",
       "       14929.85130408, 33731.88094337, 10630.82488483,  4602.14460222,\n",
       "        3285.00775314, 31519.53149568, 14184.46131254,  3881.66997242,\n",
       "        2535.01446757, 13891.6193726 , 26794.30663013, 31193.2623816 ,\n",
       "        7345.51499093,  6130.80303308, 13096.25777931, 12925.94625636,\n",
       "       12765.64430125, 11624.73866694, 37091.3776533 , 10040.56284824,\n",
       "       12742.06373425,  5025.10451419, 10661.09402373,  5348.7667013 ,\n",
       "        7593.42274582, 28002.53724231,  5122.59866875, 13176.62524711,\n",
       "       14542.75739319,   983.29805392, 23236.94762067,  3614.95052669,\n",
       "       11139.64465512,  6085.25078246,  4411.74291809,  2376.39480234])"
      ]
     },
     "execution_count": 41,
     "metadata": {},
     "output_type": "execute_result"
    }
   ],
   "source": [
    "x_train_predict"
   ]
  },
  {
   "cell_type": "code",
   "execution_count": 42,
   "id": "1fb5d31e",
   "metadata": {},
   "outputs": [],
   "source": [
    "x_test_predict = lr.predict(X_test)"
   ]
  },
  {
   "cell_type": "code",
   "execution_count": 43,
   "id": "d5f6095e",
   "metadata": {},
   "outputs": [
    {
     "data": {
      "text/plain": [
       "array([11051.54909755,  9821.28110689, 37867.57220923, 16125.70579228,\n",
       "        6920.27132517,  3879.38549816,  1448.91928088, 14390.17797974,\n",
       "        9022.95151353,  7458.83371884,  4584.60125463, 10309.9886336 ,\n",
       "        8693.03891958,  4085.25393494, 27551.60737718, 11151.0640722 ,\n",
       "       11243.0536825 ,  5962.9521121 ,  8181.9015666 , 26750.7993431 ,\n",
       "       33448.59842228, 14350.03320383, 11672.89478465, 32235.7832204 ,\n",
       "        4326.07702625,  9096.53607025,  1045.25196369, 10177.76672094,\n",
       "        4042.60346751, 10384.28681219,  9035.98983755, 40123.71002379,\n",
       "       15507.20819083, 13678.264976  , 24481.97362849,  5059.21988589,\n",
       "       12889.80609711, 30333.92625689, 33301.25091403,  3431.35787088,\n",
       "        3941.81614597,  4203.90901434, 30219.19050725, 39245.56885373,\n",
       "       27762.83744249,  4994.74188765, 11042.48621304,  7760.15047885,\n",
       "        3569.09734756, 10613.61535955,  5544.95921408,  3397.80923785,\n",
       "       32701.67144343, 38285.57836702, 16290.50463759,  6965.99677468,\n",
       "        5895.27536963,  9364.94083823,  9395.1780384 , 11722.13868077,\n",
       "        1611.87873326, 38750.4981005 , 15296.11225478, 11708.42958487,\n",
       "       14076.39653066, 13904.28564489, 25798.46519738, 31953.12169371,\n",
       "        1168.25915489, 10184.5995492 , 12273.00414884, 11867.15734569,\n",
       "       24808.10644113, 15908.53043993, 11198.67421883, 12631.50869281,\n",
       "        6433.71238434,  9915.55343233, 29953.19794316, 38768.07351788,\n",
       "       12011.54405755, 37253.64166612,  4056.21325429,  9255.50826428,\n",
       "       34537.73817683, 28976.62623495,  8444.02316285,  4738.69241453,\n",
       "       11959.22562859, 30006.0695852 , 10041.58386562, 11243.48874027,\n",
       "        8183.6075869 ,  9280.51490529,  8255.40224617,  7239.23538241,\n",
       "       35731.00350944, 32878.29978853,  7591.7717691 , 14921.91368481,\n",
       "        4184.53547122,  8690.01064385,  6619.75457992, 31535.59819898,\n",
       "       32775.00677547,  1887.67848916,  8933.68024017,  6520.27249906,\n",
       "       14475.77105663, 36880.82790297, 10252.51955517, 10775.16399139,\n",
       "       10192.95246113, 26581.47470665, 39936.28907748,  8453.03671416,\n",
       "         143.08142864,  8874.82383918, 15117.85425873,  9557.08594807,\n",
       "       35275.59070316,  7270.62037452, 16826.50981439,  9572.8088055 ,\n",
       "        8159.95902395,  2952.65859719, 32706.51413703, 31283.9896012 ,\n",
       "       39216.89699401,  5362.49911669,  9675.40479836,  3778.85297694,\n",
       "        7946.39718647,  8585.02883773, 31341.17050506, 29551.7714624 ,\n",
       "       29853.91861524,  9151.88904567, 32625.66390263,  3229.01239018,\n",
       "        3529.93652932, 11054.17156002, 13442.38216447, 12761.80223436,\n",
       "        5363.70249634, 15875.56674406, 15252.72853146,  2382.17016287,\n",
       "        -120.56014234, 10834.07802124,  7372.12214193, 31759.88622234,\n",
       "       12314.86913452,  2548.30390645,  6284.28252705,  8170.0107525 ,\n",
       "        4285.24015268,  2331.14818812, 11414.21888159, 12551.18010753,\n",
       "        7208.95663304, 16615.95420641, 11792.56220606, 13920.69808423,\n",
       "        3134.30793579,  7262.13973297, 22758.38813544,  7596.99822972,\n",
       "        5401.65993492,  5339.75438707,  6641.09944767,  5142.27041   ,\n",
       "        9983.03913716,  5526.89132472,  5628.18992827,  6975.95618531,\n",
       "        3673.17907317,  5521.32735633, 37913.25218948,  1337.01243212,\n",
       "       12636.06438156,  8935.78276524, 13661.56267036,  5572.770716  ,\n",
       "        5181.38538205, 36214.23931831,  4207.49996636,  1896.75580314,\n",
       "       15163.16594007, 12674.02182014, 34823.20434979,  5093.20670396,\n",
       "        5580.90282376, 31320.99694717,  5982.46375195,  1940.59597738,\n",
       "        8389.18364163, 10016.84576515,  8238.45168712,  5687.97489766,\n",
       "       13133.993244  , 38538.79843345, 13749.62605459, 28607.07797491,\n",
       "        6685.39503417, 35610.2777963 ,  3716.13611211, 12131.97274228,\n",
       "        9356.80352592,  6339.94803517, 11268.82158683, 14519.98276598,\n",
       "        5175.63113265,  4233.99203814,  7768.5658748 ,  1150.93881984,\n",
       "        7861.51707835,  4401.34365822, 13351.6815701 ,  4312.6173173 ,\n",
       "       10007.10646576,  7274.06437597,  9167.81641515,  2307.24223958,\n",
       "       13115.48905979, 16739.15126554, 15287.81532153, 10516.20091624,\n",
       "        5706.41694356,  2453.74757235,  2105.41152789, 13376.27751148,\n",
       "       14339.33209654,  5021.89418573,  4090.605953  ,  9366.33184625,\n",
       "        9969.15202337, 27902.13744062,  7572.78791802, 10543.34735666,\n",
       "        6174.31283586, 29537.11622517, 11027.94086667,  7457.00641596,\n",
       "       10225.18823673, 12176.62074648,  2939.88516441, 10785.5019008 ,\n",
       "        1443.73866643,  6998.45741682, 28534.01786505, 38460.70771961,\n",
       "        6225.11287288,  8374.92523275,  2386.63715545,   305.52277009,\n",
       "       10407.09161901,  4362.55365462,  4960.62107139,  2662.94916464,\n",
       "        7249.10943879, 33132.60876475, 37964.64601751, 14795.4925882 ,\n",
       "        8191.23299164, 16000.85775643, 33002.87197448,  9520.82908522,\n",
       "       33323.6218328 ,  3516.92369698, 30497.30098573,  8044.20793611,\n",
       "       14191.55955407,  4083.10066112, 32268.03153529,  8315.02063095,\n",
       "       11483.73451116,  9510.21374527,  4115.91551624, 12660.02379304,\n",
       "       11717.00935707,  8354.17363399, 13269.77614371,  2699.20978031,\n",
       "       10542.22785417,  5391.53803822, 11313.67089224, 31398.88972707,\n",
       "       10029.81495966,  1118.21159472,   462.52270438, 39674.38015203,\n",
       "        9676.2207617 ,  7081.42950834, 13999.68415448, 13421.82776838,\n",
       "       26976.22819473,  7100.7475948 ,  6788.44279001, 12033.45246932,\n",
       "        2786.36526883,  3902.46962572, 24859.29396183, 26090.84463032,\n",
       "       13371.81813565,  3164.31052787,  5117.58945791,  9325.3139586 ,\n",
       "       12404.934023  , 23317.59720695, 30625.80462982, 10046.65063794,\n",
       "       23804.49406862,  2804.50033014, 11550.33636023,  7549.77464787,\n",
       "        8233.25736365,   312.94242569,  7720.18671702, 35401.11202663,\n",
       "        6152.78016128,  6237.66443531,   178.89028134, 10901.70768044,\n",
       "        6750.59209883,  9992.98880624, 38764.63808826, 27466.58793525,\n",
       "       11489.14198588, 35484.16547957, 15039.21254017,  6810.42408411,\n",
       "       11015.353549  ,  6839.24282704, 36512.17018034,  6045.00741789,\n",
       "       11075.16473053,   741.96608741, 24186.22593789,  1881.15932715,\n",
       "       34245.135946  , 11379.34404185,  1787.47141685, 32018.68078654,\n",
       "        6644.72832713,  5200.52497017, 37952.77965645,  2171.21921984,\n",
       "        9595.04338665,  2650.53107838, 12806.89011534,  1008.0849294 ,\n",
       "       11113.81326429,  7092.09772183, 36343.11043514,  7160.77113975,\n",
       "       30438.75625726, 29472.1875026 ,  7100.76722883, 10790.23315907,\n",
       "        1879.90465675,  2200.37960027,  3793.92758918, 12706.65566117,\n",
       "       37039.77367021,  9716.69560709,   345.17579449, 11387.82123255,\n",
       "        5036.80429065,  9779.98465515,  5576.16518582,  7260.90814745,\n",
       "        4311.38104385, 28280.88564325,  4363.51594298,  -921.56882455,\n",
       "       33139.88333244, 12910.28546987, 35733.85862246,  9841.66334273,\n",
       "        7663.70159627,   -94.4834943 ,  2560.96139226, 11527.50523772,\n",
       "        5669.76181684,  3293.09776754, 12120.72252044,  7743.17735694,\n",
       "        6920.9128887 ,  5459.93977214,  3049.37781558, 31786.79912085,\n",
       "        3518.32063003,  8595.19234733,  4796.86509127, 13024.5060374 ,\n",
       "       14691.59701387,  7163.95913996, 26454.5855911 , 14277.02407734,\n",
       "       17354.84539043, 11476.70520069])"
      ]
     },
     "execution_count": 43,
     "metadata": {},
     "output_type": "execute_result"
    }
   ],
   "source": [
    "x_test_predict"
   ]
  },
  {
   "cell_type": "code",
   "execution_count": 44,
   "id": "527fcde1",
   "metadata": {},
   "outputs": [
    {
     "data": {
      "text/plain": [
       "0.7306840408360217"
      ]
     },
     "execution_count": 44,
     "metadata": {},
     "output_type": "execute_result"
    }
   ],
   "source": [
    "#score dari X_train dan y_train\n",
    "lr.score(X_train,y_train)"
   ]
  },
  {
   "cell_type": "code",
   "execution_count": 45,
   "id": "70862260",
   "metadata": {},
   "outputs": [
    {
     "data": {
      "text/plain": [
       "0.7911113876316933"
      ]
     },
     "execution_count": 45,
     "metadata": {},
     "output_type": "execute_result"
    }
   ],
   "source": [
    "#score dari X_test dan y_test\n",
    "lr.score(X_test, y_test)"
   ]
  },
  {
   "cell_type": "code",
   "execution_count": 46,
   "id": "88e55c57",
   "metadata": {},
   "outputs": [
    {
     "name": "stdout",
     "output_type": "stream",
     "text": [
      "LinearRegression Training Score 73.07% \n",
      "LinearRegression Testing Score 79.11% \n"
     ]
    }
   ],
   "source": [
    "print('LinearRegression Training Score %.2f%% '%(lr.score(X_train,y_train)*100))\n",
    "print('LinearRegression Testing Score %.2f%% '%(lr.score(X_test,y_test)*100))"
   ]
  },
  {
   "cell_type": "markdown",
   "id": "b08b5b6d",
   "metadata": {},
   "source": [
    "# Evaluasi LinearRegression"
   ]
  },
  {
   "cell_type": "code",
   "execution_count": 47,
   "id": "0f91644e",
   "metadata": {},
   "outputs": [],
   "source": [
    "#mengimport library evaluasi\n",
    "from sklearn.metrics import r2_score, mean_absolute_error, mean_squared_error"
   ]
  },
  {
   "cell_type": "code",
   "execution_count": 48,
   "id": "61e469d0",
   "metadata": {},
   "outputs": [
    {
     "name": "stdout",
     "output_type": "stream",
     "text": [
      "Train_score :  0.7306840408360217\n",
      "Test_score :  0.7911113876316933\n"
     ]
    }
   ],
   "source": [
    "# r2_score\n",
    "train_score = r2_score(y_train, x_train_predict)\n",
    "test_score = r2_score(y_test, x_test_predict)\n",
    "print('Train_score : ',train_score)\n",
    "print('Test_score : ', test_score)"
   ]
  },
  {
   "cell_type": "code",
   "execution_count": 49,
   "id": "50f75987",
   "metadata": {},
   "outputs": [
    {
     "name": "stdout",
     "output_type": "stream",
     "text": [
      "Mean Absolute Error Train :  4250.321373663908\n",
      "Mean Absolute Error Test :  4013.6929857811983\n"
     ]
    }
   ],
   "source": [
    "# mean absolute error\n",
    "mae_train = mean_absolute_error(y_train, x_train_predict)\n",
    "mae_test = mean_absolute_error(y_test, x_test_predict)\n",
    "print(\"Mean Absolute Error Train : \", mae_train)\n",
    "print(\"Mean Absolute Error Test : \", mae_test)"
   ]
  },
  {
   "cell_type": "code",
   "execution_count": 50,
   "id": "92270b20",
   "metadata": {},
   "outputs": [
    {
     "name": "stdout",
     "output_type": "stream",
     "text": [
      "Mean Squared Error Train :  37969842.62686115\n",
      "Mean Squared Error Test :  33311355.28185997\n"
     ]
    }
   ],
   "source": [
    "# Mean squared error \n",
    "mse_train = mean_squared_error(y_train, x_train_predict)\n",
    "mse_test = mean_squared_error(y_test, x_test_predict)\n",
    "print(\"Mean Squared Error Train : \", mse_train)\n",
    "print(\"Mean Squared Error Test : \", mse_test)"
   ]
  },
  {
   "cell_type": "code",
   "execution_count": 51,
   "id": "f47959cc",
   "metadata": {},
   "outputs": [
    {
     "name": "stdout",
     "output_type": "stream",
     "text": [
      "Root Mean Squared Error Train :  6161.967431499549\n",
      "Root Mean Squared Error Test :  5771.599022962351\n"
     ]
    }
   ],
   "source": [
    "# Root Mean squared error\n",
    "rmse_train = np.sqrt(mean_squared_error(y_train, x_train_predict))\n",
    "rmse_test = np.sqrt(mean_squared_error(y_test, x_test_predict))\n",
    "print(\"Root Mean Squared Error Train : \", rmse_train)\n",
    "print(\"Root Mean Squared Error Test : \", rmse_test)"
   ]
  },
  {
   "cell_type": "code",
   "execution_count": 93,
   "id": "300d41c0",
   "metadata": {},
   "outputs": [
    {
     "name": "stdout",
     "output_type": "stream",
     "text": [
      "[34590.82214612]\n",
      "The insurence cost is in USD 34590.82214611719\n"
     ]
    }
   ],
   "source": [
    "input_data = (60,1,25.84,0,1,3)\n",
    "input_data_as_numpy_array = np.asarray(input_data)\n",
    "input_data_reshaped = input_data_as_numpy_array.reshape(1,-1)\n",
    "prediction = lr.predict(input_data_reshaped)\n",
    "print(prediction)\n",
    "print('The insurence cost is in USD', prediction[0])"
   ]
  },
  {
   "cell_type": "markdown",
   "id": "355cbbc3",
   "metadata": {},
   "source": [
    "## RandomForestRegressor "
   ]
  },
  {
   "cell_type": "code",
   "execution_count": 54,
   "id": "378159df",
   "metadata": {},
   "outputs": [],
   "source": [
    "from sklearn.ensemble import RandomForestRegressor"
   ]
  },
  {
   "cell_type": "code",
   "execution_count": 55,
   "id": "91d838fc",
   "metadata": {},
   "outputs": [],
   "source": [
    "rfr = RandomForestRegressor()"
   ]
  },
  {
   "cell_type": "code",
   "execution_count": 56,
   "id": "e133c90d",
   "metadata": {},
   "outputs": [
    {
     "data": {
      "text/plain": [
       "RandomForestRegressor()"
      ]
     },
     "execution_count": 56,
     "metadata": {},
     "output_type": "execute_result"
    }
   ],
   "source": [
    "rfr.fit(X_train, y_train)"
   ]
  },
  {
   "cell_type": "code",
   "execution_count": 57,
   "id": "f56e0329",
   "metadata": {},
   "outputs": [],
   "source": [
    "x_train_pred = rfr.predict(X_train)"
   ]
  },
  {
   "cell_type": "code",
   "execution_count": 58,
   "id": "8877c230",
   "metadata": {},
   "outputs": [
    {
     "data": {
      "text/plain": [
       "array([ 4024.1132074 ,  6024.436097  , 13861.5823568 ,  7588.3137807 ,\n",
       "        5849.2744312 ,  2140.5750115 , 35808.9243747 , 13167.7290775 ,\n",
       "        7169.4659943 , 13133.3893865 ,  8490.994219  , 13022.3870341 ,\n",
       "       48856.7605185 ,  4662.4859055 ,  9696.9311205 , 11497.2409316 ,\n",
       "       15000.2712204 ,  1960.2558846 ,  6915.5595084 ,  2588.7940415 ,\n",
       "       11768.373773  , 15600.6357533 , 11593.7075675 , 41012.0197675 ,\n",
       "        4887.3410475 , 34046.879466  , 17255.405567  , 11073.362838  ,\n",
       "        9969.8355894 , 42568.83423   ,  9247.4236002 ,  4199.169694  ,\n",
       "        9139.7150905 , 19517.3099122 , 36922.7161336 , 18770.791552  ,\n",
       "       20966.688312  , 39175.387066  ,  4761.6494942 , 17303.2135662 ,\n",
       "        3160.5681033 , 35896.0165913 ,  6402.519844  , 15451.5325656 ,\n",
       "        2233.114227  , 41583.447109  ,  9029.889602  ,  4639.2190241 ,\n",
       "        3949.388315  ,  9790.869003  , 11994.7084549 ,  9303.4089951 ,\n",
       "       11504.540637  ,  3770.953168  ,  2627.8463442 ,  3811.5490775 ,\n",
       "        5263.1350316 ,  7840.022916  , 34971.1501986 , 13694.5305912 ,\n",
       "        7209.386894  , 17839.4075119 , 11717.092797  ,  1807.7391905 ,\n",
       "       10895.1376377 , 11290.4023434 ,  4014.8952125 ,  1644.217756  ,\n",
       "       44538.1036715 ,  8717.2144423 , 21685.7954761 ,  4429.5743644 ,\n",
       "       20435.5119135 ,  5876.7948193 , 11748.832438  , 18270.1914874 ,\n",
       "       34159.1589672 ,  9538.3525185 ,  7877.3872338 ,  1831.0833475 ,\n",
       "        4227.3437455 ,  9149.6376808 ,  2071.2693075 , 10080.7310299 ,\n",
       "        1759.265205  ,  3742.94311   , 41163.0153799 ,  7661.6415457 ,\n",
       "        7210.588336  ,  3920.0370765 , 22015.0293337 , 11165.9062561 ,\n",
       "       13680.212558  ,  5077.2001713 ,  6360.3929555 ,  6672.4430887 ,\n",
       "        1808.2872326 , 10207.674554  , 23296.1243997 ,  6331.1934465 ,\n",
       "       46205.0433993 , 10423.9335468 ,  6772.8570085 ,  3711.1998049 ,\n",
       "        8343.4865142 , 39800.034399  ,  2387.3901558 ,  9569.0324371 ,\n",
       "        9354.068877  ,  9215.8067984 ,  2580.744527  , 11879.258157  ,\n",
       "       13125.6246063 , 36087.0832757 , 12447.7614681 ,  7615.7547088 ,\n",
       "       13515.6162315 , 15371.2169306 , 37011.089739  ,  8214.0806104 ,\n",
       "       11466.702674  , 17545.4347071 ,  3857.1884581 , 35322.1823508 ,\n",
       "        4719.357001  , 19359.7597835 , 15161.1874372 ,  5094.424728  ,\n",
       "       11065.9996178 , 10723.8095287 ,  6294.6510126 ,  2393.1221019 ,\n",
       "        1188.785779  ,  2201.333008  ,  3315.923947  ,  1736.3954995 ,\n",
       "       16182.5865904 ,  3250.0870655 ,  9629.8697761 ,  9111.998564  ,\n",
       "       12315.8264852 ,  6514.476744  , 13012.2260279 ,  2572.719043  ,\n",
       "        9816.4483264 ,  6648.8980968 , 10052.9726955 , 13382.3837087 ,\n",
       "       11809.7980155 , 21013.0391232 , 13005.6341425 ,  8353.7905422 ,\n",
       "        7509.3282831 , 20426.8516884 ,  5300.710076  , 10642.7701345 ,\n",
       "        7033.7541505 ,  5244.0966615 , 21816.112474  , 11987.9357301 ,\n",
       "       10434.7007486 , 14788.498393  , 10352.6191534 ,  5645.3574202 ,\n",
       "        3696.6837034 ,  5760.3999248 ,  6632.0807705 ,  1917.1785355 ,\n",
       "        7205.4124559 ,  3697.493299  ,  5233.871786  , 12063.816238  ,\n",
       "        3817.3187077 ,  3919.514829  ,  3279.37213008,  2476.9312825 ,\n",
       "        4250.7858075 , 14910.7140907 , 14027.7467801 , 39070.966732  ,\n",
       "       14902.9224672 ,  9930.074056  , 44930.5456926 ,  2282.5010645 ,\n",
       "       12693.8223358 ,  1978.760121  ,  5501.871245  , 17016.6195703 ,\n",
       "       13755.0231072 ,  5243.9983605 , 13461.8590045 , 10655.0111974 ,\n",
       "       39476.0169745 , 24053.0240082 ,  6722.6626645 , 12650.2947521 ,\n",
       "       19269.1463475 ,  6100.56203531,  8655.9595315 ,  4381.6582223 ,\n",
       "        2665.6467213 , 24261.5300585 , 28860.5723381 , 16972.0866694 ,\n",
       "       10219.2929649 ,  7575.2703623 , 25198.755146  , 24489.337407  ,\n",
       "        8317.727389  , 18034.2924514 , 41137.6062464 ,  6168.1264275 ,\n",
       "       24244.8326836 , 12473.443061  , 24669.0404152 , 17614.8797151 ,\n",
       "       12915.8677895 ,  9685.8405572 , 13556.8807243 , 13616.3724008 ,\n",
       "       25209.4334286 ,  2684.899105  , 10557.5840747 , 11774.5834764 ,\n",
       "        4997.617686  ,  7504.2215234 , 24611.0537576 ,  1706.7984375 ,\n",
       "        2604.871884  , 11146.7411642 , 13169.1574585 ,  7434.4091512 ,\n",
       "        1269.887461  , 53423.0987718 ,  4097.5505492 , 10737.7878725 ,\n",
       "       12019.5845086 ,  3739.00421   ,  5499.7324684 , 22276.5745745 ,\n",
       "       16561.179956  ,  6990.0332555 , 46432.6959625 , 23709.3396282 ,\n",
       "       11798.8153726 ,  1889.881437  , 10866.0823889 , 16334.646197  ,\n",
       "        7201.1258488 ,  2004.0190585 ,  9411.0096109 , 17716.571713  ,\n",
       "        7576.7521574 , 13414.1917596 ,  9449.4789067 , 13713.7838152 ,\n",
       "        5799.2035135 ,  1625.4414445 ,  2583.2030119 , 34783.4506648 ,\n",
       "        6718.57743   , 13797.132068  ,  3311.612775  , 42880.7051164 ,\n",
       "        2826.9652187 ,  7499.310641  ,  8986.2498159 , 11355.144313  ,\n",
       "        9415.6709878 ,  1725.818156  ,  7400.2251085 , 10842.3388765 ,\n",
       "        8181.2191045 ,  3765.6000117 , 20866.6533442 , 12772.4526755 ,\n",
       "       11375.185289  ,  2456.9696477 ,  4891.3413517 , 14502.5448816 ,\n",
       "        4057.232839  ,  6019.5674173 ,  6317.9714377 , 13344.5849035 ,\n",
       "        2002.4696394 , 10220.2618389 ,  2855.4927615 ,  2468.7142735 ,\n",
       "        7084.723819  ,  4046.5233115 ,  2895.9727135 , 12687.7198881 ,\n",
       "       10538.9599165 , 47638.1475171 , 10384.0000442 , 32697.2039956 ,\n",
       "       15895.6761068 , 17805.9435908 ,  6801.5751245 ,  4954.6130595 ,\n",
       "        5216.63378732,  9324.2852901 , 16328.0474489 ,  4543.0168305 ,\n",
       "        2652.3873715 ,  3296.3529536 , 10935.5852949 ,  3735.0631825 ,\n",
       "       14268.6639862 ,  9198.3865392 ,  7248.66393   , 12468.3455836 ,\n",
       "       26712.7753124 , 11717.9396035 , 11506.98188   , 18803.1483345 ,\n",
       "        3069.2085232 ,  2820.3316385 ,  8100.9929885 ,  1476.42501875,\n",
       "        6637.415843  ,  2952.8985887 ,  6208.2462883 , 18580.3540621 ,\n",
       "        8571.9774893 ,  4376.6205275 ,  4868.9765603 , 13497.073617  ,\n",
       "        3513.5727655 ,  2265.7615622 ,  1638.8057945 ,  9018.7587698 ,\n",
       "       12038.904098  ,  2721.7577435 ,  5986.5397553 ,  6074.4570308 ,\n",
       "        9944.1523032 , 41873.156916  ,  5583.6505497 ,  2014.0469923 ,\n",
       "       12918.1346632 ,  6803.6057169 ,  7213.0798691 , 16708.8298303 ,\n",
       "        9667.6621873 ,  4439.9705832 ,  4083.8129545 , 14212.7425594 ,\n",
       "       34916.1427236 , 17282.2652385 ,  7995.4202233 ,  4390.9404536 ,\n",
       "        1619.0845365 , 15633.3252886 ,  4164.7793005 ,  3523.084788  ,\n",
       "        3948.6735692 , 18020.7969105 , 16849.1179281 , 46725.2521305 ,\n",
       "       28914.370271  , 22838.8751154 ,  2092.213484  , 17497.7160945 ,\n",
       "        8663.51015   ,  8464.805712  ,  9034.673682  ,  3659.6144365 ,\n",
       "        9588.6004367 , 46662.0098105 , 18151.6935744 ,  2417.19902983,\n",
       "       13440.2096405 , 40818.0667835 ,  5452.5219985 , 18419.7139435 ,\n",
       "       17991.661074  ,  8470.8525389 ,  8621.713609  ,  7188.1064635 ,\n",
       "        3450.5821405 , 12835.8520742 , 20941.8273    ,  3441.069396  ,\n",
       "       12465.8987357 , 16848.3587377 , 16459.0799963 , 14195.1237315 ,\n",
       "       18236.7356568 , 21268.6252546 ,  6727.2281515 ,  9351.7418805 ,\n",
       "       43835.1116535 , 10693.0468681 ,  8922.9475957 , 11759.7334624 ,\n",
       "        9345.7160259 ,  6346.20319   ,  6061.1065792 , 15986.7972558 ,\n",
       "       18874.7035106 , 17530.6586827 , 14180.4256199 ,  1254.853794  ,\n",
       "        5878.0777962 ,  2249.72791   , 11098.5567386 ,  7582.8277945 ,\n",
       "        7165.4912699 , 38471.4747192 , 12068.440568  ,  3603.2850033 ,\n",
       "       18972.0289741 , 13500.7498625 ,  5184.977852  , 12754.8124335 ,\n",
       "       11350.8889593 ,  9897.9612655 ,  7772.4767744 ,  5703.7086074 ,\n",
       "        1847.2513615 , 48834.791256  , 15030.1283347 , 14283.9337215 ,\n",
       "        5993.9126681 ,  4305.8181695 , 11509.9552361 ,  6100.56203531,\n",
       "       13020.4641478 , 10404.6459501 ,  1356.276609  ,  3679.6040546 ,\n",
       "        8827.5571372 ,  3642.8147874 ,  4813.457375  , 13727.6975973 ,\n",
       "        8459.28347025, 16347.6602921 ,  2118.1849965 ,  7570.217721  ,\n",
       "        4409.629564  ,  8679.5434098 , 20181.592439  ,  9783.2004271 ,\n",
       "       14136.074191  , 18718.6503612 , 44543.5801163 ,  3927.6973228 ,\n",
       "       45428.0501593 ,  8407.6804887 ,  8148.3274905 ,  5530.530688  ,\n",
       "        4145.8130642 , 38613.2447126 , 11668.2471086 , 10160.2584013 ,\n",
       "        5289.2860445 ,  2331.4542828 , 16636.307921  , 21406.2007595 ,\n",
       "        4804.633984  ,  6356.506013  ,  1191.027178  , 12551.6959861 ,\n",
       "       12303.6844872 ,  4690.5892831 ,  5904.0740104 , 12688.7381025 ,\n",
       "       16374.9889584 , 14336.3445845 , 35795.0331088 , 13429.936211  ,\n",
       "        9431.2388798 , 13263.7901098 ,  8767.9735134 ,  8291.3334592 ,\n",
       "       14448.4069691 , 16923.4959555 , 39617.3253138 , 10713.0662751 ,\n",
       "        9602.0498901 , 29497.3604611 ,  3201.528683  ,  4374.5089136 ,\n",
       "        5356.0334792 ,  8796.2442956 , 49306.8985324 , 40013.594626  ,\n",
       "       34918.1268198 , 11412.5928945 , 42980.8381172 , 48406.2228126 ,\n",
       "       15601.4388135 , 17139.141688  ,  4479.352656  , 28133.6527592 ,\n",
       "        5178.0077433 , 10489.3683635 ,  2523.5445726 , 43676.4810113 ,\n",
       "       13547.563765  ,  7145.0964784 , 14283.4621083 ,  5082.3496033 ,\n",
       "        9702.7166684 , 35983.3576805 ,  6470.909845  , 16610.944428  ,\n",
       "       10390.8687749 ,  1865.2860835 , 41482.024279  , 14450.3775366 ,\n",
       "        5053.7120363 , 10013.6467181 , 18682.6342651 ,  7189.2972378 ,\n",
       "        2507.3929455 ,  2355.618579  ,  9244.060815  , 17371.6024619 ,\n",
       "        2614.5206615 , 11612.9057325 , 19802.011482  , 41004.817138  ,\n",
       "       11196.0140662 ,  2879.9903357 ,  4812.3198215 , 22942.7156387 ,\n",
       "        9745.0240966 ,  2309.017993  , 43998.684521  ,  7324.5239909 ,\n",
       "       44614.6329049 ,  4713.8577684 , 14362.0327536 ,  4483.6570025 ,\n",
       "       36033.0692362 ,  4850.897435  , 10418.511349  , 10346.6161617 ,\n",
       "        9606.2500997 , 28692.345384  , 13309.3786879 , 15939.6070784 ,\n",
       "       25564.0132443 , 46079.0922436 ,  4834.8532851 , 23321.6366263 ,\n",
       "       12583.1515101 ,  6175.5021275 ,  7761.2411946 , 11525.8784997 ,\n",
       "       11867.2657618 ,  5342.9905082 ,  9827.101584  ,  1633.590288  ,\n",
       "        8273.6807871 , 11634.8250937 ,  3022.8991715 , 13716.1772402 ,\n",
       "       51443.4264907 ,  9429.3416916 , 17127.864488  , 34354.236499  ,\n",
       "       12061.6125507 , 11771.2381898 , 13457.0741685 ,  2514.273638  ,\n",
       "       20885.916192  , 15080.4471712 , 19908.500076  ,  3736.500039  ,\n",
       "        2079.2226835 , 38631.5698724 ,  6954.324647  , 22828.8268409 ,\n",
       "       23968.600168  , 39081.5378605 ,  2982.0500417 , 21266.5838929 ,\n",
       "       11823.5583485 ,  6779.3808273 , 41157.9154572 , 20315.3406941 ,\n",
       "       10274.6709453 , 32360.3107579 , 10171.7189135 , 10995.4537609 ,\n",
       "        6445.2664358 , 21137.774306  ,  8871.5291512 , 13980.3979455 ,\n",
       "       14051.7944515 , 15229.9991096 ,  4177.9541855 ,  4110.9374491 ,\n",
       "       22019.8245768 ,  5054.8009942 , 10715.4546614 , 12116.7167059 ,\n",
       "       15523.8700226 , 10111.5695804 ,  5557.495126  , 19341.9274617 ,\n",
       "       16396.2968244 , 16656.6663805 ,  5796.6319214 , 34667.6813818 ,\n",
       "       26489.5190472 ,  9348.5497626 ,  7091.0713798 ,  8496.2984911 ,\n",
       "        4895.3046935 ,  5997.94902   , 13887.75543   , 37587.0814304 ,\n",
       "       10171.399941  ,  8217.9414475 ,  2896.0281745 , 11172.5037312 ,\n",
       "        2959.311611  , 10255.4143514 , 13581.1176538 , 13719.0367005 ,\n",
       "        6740.2803253 , 11955.5515129 ,  5489.3477067 , 13944.7815374 ,\n",
       "        6557.2016302 ,  5753.7924479 ,  6477.2693705 ,  2247.489208  ,\n",
       "       12522.5916694 ,  2368.9789014 ,  8850.4835843 ,  6574.1485654 ,\n",
       "       15574.2809439 ,  7643.1514498 ,  7114.2911635 , 49496.8072156 ,\n",
       "        7476.3163243 ,  3999.2554033 ,  9577.1187555 ,  5370.3409015 ,\n",
       "       13142.2741121 , 10156.1898867 , 11263.661768  ,  9644.7247031 ,\n",
       "        8779.8861021 , 27382.6439775 ,  7920.8637745 ,  9705.7740803 ,\n",
       "       28696.432988  ,  3316.8198045 ,  7038.622772  , 49361.1656684 ,\n",
       "       10441.1973412 ,  4766.5791733 , 14881.2568489 ,  6974.0308219 ,\n",
       "       46989.1992365 , 42106.5677265 , 18048.7064475 ,  1266.7779465 ,\n",
       "        9924.7510805 , 22981.5724293 , 19526.5934405 , 11102.36746   ,\n",
       "        4873.9572353 ,  3097.8598017 , 11431.660621  ,  4101.2578213 ,\n",
       "        8033.0455542 ,  2507.8297884 , 20294.6140845 , 23971.5830855 ,\n",
       "       41969.9131174 ,  9314.4258495 , 15946.8518639 ,  8566.6074969 ,\n",
       "       48288.3142938 ,  6892.6338396 ,  5155.4902516 , 12885.9892426 ,\n",
       "        6494.3646418 , 45805.0129511 , 12496.1311954 ,  8165.6254238 ,\n",
       "        4171.875654  ,  6086.5504866 ,  5078.2400725 , 11841.993029  ,\n",
       "       19757.7508615 ,  8527.9091905 ,  3951.8888327 , 17531.8169936 ,\n",
       "       20966.6919923 , 11456.342505  , 12137.7069077 , 10509.6762035 ,\n",
       "       42789.8577475 , 26398.8273424 , 38686.191424  ,  3516.071705  ,\n",
       "        9298.5422996 ,  6667.9408283 ,  2713.9836412 ,  2860.9926375 ,\n",
       "       13345.1454616 ,  5279.5501777 ,  7198.180122  ,  6808.4018135 ,\n",
       "        2131.6618472 , 18439.6001015 , 13525.921972  ,  9117.8538742 ,\n",
       "        3876.1504641 , 16500.2874928 ,  7009.323923  ,  1725.317756  ,\n",
       "       10636.8134986 , 15934.2725043 , 24556.8205788 , 34945.3249963 ,\n",
       "       16553.1383166 ,  7723.0505376 , 13394.96308   , 21126.7181948 ,\n",
       "       14634.202855  , 14556.6707893 , 17462.7776144 , 20641.2584099 ,\n",
       "       19171.895889  ,  5295.0345915 , 22984.8880538 , 11844.1666245 ,\n",
       "        2134.6044295 , 11607.1185736 , 19851.1563851 ,  1707.345114  ,\n",
       "        2747.294378  ,  3158.7723338 ,  6847.6456788 , 34914.5216977 ,\n",
       "        4364.4390248 , 12311.647753  ,  5865.1494701 , 12135.6303715 ,\n",
       "       16669.7813969 , 10954.5654732 , 42128.868952  , 23643.0193918 ,\n",
       "        6909.1387138 , 25215.2992887 , 10180.8993249 ,  6388.496246  ,\n",
       "        6540.9061485 , 10930.5194284 , 12713.0191111 ,  9457.244282  ,\n",
       "        6166.6271844 , 13018.6434645 ,  5949.3090588 ,  3465.9766458 ,\n",
       "       20631.3732363 ,  3784.3165689 ,  4999.1507812 ,  8697.2001977 ,\n",
       "        7777.994857  , 14306.6511241 ,  2237.5111425 ,  1925.1050775 ,\n",
       "       12229.550891  , 13449.916629  ,  6213.48626   ,  7813.3352855 ,\n",
       "       27787.0129145 , 43037.8905055 , 14402.138796  , 13847.7551455 ,\n",
       "        2220.0662243 , 20168.1063338 , 23735.90162   , 22595.1016541 ,\n",
       "       27504.703498  , 11917.4197152 ,  8499.4902068 ,  9013.5565671 ,\n",
       "        2157.4880475 ,  4201.7395392 ,  8626.441372  , 11683.007068  ,\n",
       "       11759.2285095 ,  9462.7660601 , 25846.1479072 ,  3333.4365597 ,\n",
       "       16542.892682  , 46621.087583  , 12012.2239857 , 20157.2843877 ,\n",
       "       10259.3277336 , 46180.4098441 , 26041.2498927 ,  6412.6918135 ,\n",
       "        9732.0334997 , 21924.83558   , 40807.2025845 , 29381.2321937 ,\n",
       "        4739.1505028 , 14408.1322268 ,  4260.1362735 , 26003.7151634 ,\n",
       "       28723.1263986 ,  6100.143406  ,  8527.0005253 , 43657.671342  ,\n",
       "        6323.9469135 ,  2684.8783049 ,  6973.908646  ,  6345.0607684 ,\n",
       "        7043.7429505 ,  9327.0513545 ,  2897.9077234 , 10716.2465159 ,\n",
       "       11182.9163922 , 41462.8037213 ,  6213.2150969 , 39792.597451  ,\n",
       "       17589.7618804 ,  6354.787136  , 23426.6308503 , 38497.19165   ,\n",
       "       13283.1209738 , 38144.2573912 ,  6326.686648  ,  4298.4184895 ,\n",
       "       13840.8706089 ,  6518.0625663 ,  9462.8538809 , 30374.3667424 ,\n",
       "        9673.2678085 ,  1767.448304  , 23276.6742339 ,  5195.7538657 ,\n",
       "       44673.0601698 ,  6790.7576752 ,  6403.2726594 ,  6172.073493  ,\n",
       "        9324.2326189 , 36044.17175   , 17823.421954  , 12283.8645892 ,\n",
       "        1773.7472259 , 19957.4051045 ,  1254.308914  ,  4756.3756808 ,\n",
       "       17799.4109813 , 14006.6510062 ,  2383.331225  ,  7118.7957072 ,\n",
       "        3488.0633789 , 14080.7579243 , 23017.1341956 ,  9066.0493132 ,\n",
       "        3199.0133422 , 37332.9276091 , 40243.6196292 ,  7524.4415015 ,\n",
       "       16256.9434904 ,  6431.76561   , 17987.6816471 , 11971.9745976 ,\n",
       "        9257.9083549 , 13716.5323021 , 10224.9764977 ,  7506.8043443 ,\n",
       "       16080.98976   , 34681.5738843 ,  5909.8081744 ,  1697.524915  ,\n",
       "       53315.4118071 ,  9416.6778236 ,  3962.6421053 , 13763.555753  ,\n",
       "       12900.931653  ,  7996.8252315 ,  2240.3013936 ,  7641.206866  ,\n",
       "       26958.6364463 ,  2392.555447  ,  3488.9593157 , 38872.4848355 ,\n",
       "        2455.35465   , 12188.4397635 ,  8308.0890501 , 10928.8653223 ,\n",
       "       29214.404674  ,  6936.6311684 , 59049.2534817 , 11590.6764079 ,\n",
       "       15147.6790132 , 40705.0119352 ,  7395.7304032 ,  3205.5202341 ,\n",
       "        3032.0942446 , 24894.3124237 , 14493.7712013 ,  5733.5280982 ,\n",
       "        8328.0106935 ,  8918.0525475 , 16760.8375735 , 38308.5667603 ,\n",
       "        6028.224419  ,  5483.8204399 ,  8161.4549254 , 25832.2145415 ,\n",
       "        8535.8738632 , 11780.9439206 , 45377.683611  ,  8979.7318406 ,\n",
       "       12110.3571396 ,  3011.6777428 , 12332.765068  ,  3947.3856575 ,\n",
       "        6262.9410354 , 34828.2343684 ,  3166.97779942, 11821.2141318 ,\n",
       "       28167.6915082 ,  2119.3996685 , 14641.7888904 ,  3417.1600043 ,\n",
       "        7269.4393728 ,  5615.299384  ,  2905.003883  ,  6265.6863427 ])"
      ]
     },
     "execution_count": 58,
     "metadata": {},
     "output_type": "execute_result"
    }
   ],
   "source": [
    "x_train_pred"
   ]
  },
  {
   "cell_type": "code",
   "execution_count": 59,
   "id": "f973cfa0",
   "metadata": {},
   "outputs": [],
   "source": [
    "x_test_pred = rfr.predict(X_test)"
   ]
  },
  {
   "cell_type": "code",
   "execution_count": 60,
   "id": "7e2458e4",
   "metadata": {
    "scrolled": true
   },
   "outputs": [
    {
     "data": {
      "text/plain": [
       "array([10565.1152712 ,  9252.075997  , 44933.3386185 , 13057.4701775 ,\n",
       "        9824.1886557 , 13111.5376459 ,  2557.3986175 , 10864.5314627 ,\n",
       "        8108.1267122 ,  6583.0545401 ,  7912.2952862 , 18862.2378239 ,\n",
       "        8525.3541574 ,  5169.4817122 , 24147.9067339 , 13224.6804134 ,\n",
       "       14761.5301308 ,  6714.4233127 ,  6786.8897563 , 33983.1834749 ,\n",
       "       24010.4285535 , 15732.1705782 , 12201.8440289 , 26235.1033401 ,\n",
       "        3035.027863  , 11204.6056741 ,  5903.6475444 ,  7647.2819843 ,\n",
       "        3738.441977  , 10816.7608157 ,  7528.521191  , 48257.8867051 ,\n",
       "       13992.9699785 , 12329.5116198 , 16463.1215745 ,  3995.1950075 ,\n",
       "        8623.6169335 , 37902.1316843 , 39519.4770985 ,  6172.5860877 ,\n",
       "       10482.6741116 ,  3337.233279  , 20948.291084  , 47440.919072  ,\n",
       "       36913.3333608 ,  3885.3124942 , 13576.9711213 ,  6829.3034934 ,\n",
       "        6161.4251919 , 11922.347097  ,  3818.5761722 ,  4185.885127  ,\n",
       "       27295.2357419 , 48964.2090873 , 11684.364393  , 11393.1349804 ,\n",
       "        3808.2717898 , 12129.6776843 , 10803.3496194 , 17508.578762  ,\n",
       "        1419.048024  , 46621.31306   , 16111.1773928 , 12519.9318235 ,\n",
       "       15515.3346482 ,  9895.229473  , 34257.6574717 , 40678.3841128 ,\n",
       "        3240.0420549 , 11759.7435628 , 17437.1969153 , 12358.5211646 ,\n",
       "       17042.3241916 , 14058.003781  , 13774.8464746 , 16160.6387969 ,\n",
       "       11106.5705556 ,  9806.348117  , 20176.5470915 , 46744.6939175 ,\n",
       "       11599.0822    , 49878.2038239 ,  3143.4695094 ,  9458.3971897 ,\n",
       "       41235.4538506 , 19199.097708  ,  3579.4694537 ,  3657.4548371 ,\n",
       "       17192.385969  , 39163.1485066 , 12995.2508623 , 13299.1683474 ,\n",
       "        4035.2856716 , 10468.0923082 ,  9652.1309395 ,  7815.3309306 ,\n",
       "       43113.9410119 , 51969.0178041 ,  6312.7351157 , 11148.4239977 ,\n",
       "        2864.4367323 ,  8178.8194847 ,  6970.8032878 , 39984.7322815 ,\n",
       "       26808.9526506 ,  4339.5283995 , 11369.6573166 ,  9447.0688057 ,\n",
       "       11806.7424495 , 45550.350752  , 12852.9412616 ,  7885.0281005 ,\n",
       "       10046.4151082 , 34430.2154113 , 47847.1371196 ,  7927.9401864 ,\n",
       "        2479.6712535 , 12899.8232301 , 24101.8281529 , 10339.3409932 ,\n",
       "       42099.968728  , 13773.9807761 , 13930.695642  , 14258.2497842 ,\n",
       "       10665.5577388 ,  6020.41882   , 27239.6411227 , 26501.6534909 ,\n",
       "       48408.3966461 ,  2408.5260015 , 10630.3579944 ,  3088.7482186 ,\n",
       "        5881.4962225 , 10087.6300888 , 41321.1409863 , 38002.7485101 ,\n",
       "       24903.9772167 , 15442.4916685 , 23984.9413754 ,  5152.0937901 ,\n",
       "        2191.9962515 , 12015.1238038 , 10637.9218005 , 10904.9940163 ,\n",
       "        5669.712398  , 13939.711197  , 22185.437678  ,  7901.4366962 ,\n",
       "        1627.0798825 , 11396.841525  ,  6633.7638905 , 39178.6930617 ,\n",
       "       10959.86271   ,  5304.8768272 ,  3709.0273625 ,  7346.4840755 ,\n",
       "        3415.8746681 ,  3133.9153967 , 13536.8808095 ,  9839.4574218 ,\n",
       "       10931.329373  , 13199.887648  , 13641.6672681 ,  9368.7974545 ,\n",
       "        5401.2138498 , 10333.1255294 , 17856.4117152 , 10946.5142463 ,\n",
       "        5028.44257   ,  2369.39196025,  9151.1967924 ,  6494.3502932 ,\n",
       "       11354.7146072 ,  2203.42439   ,  6684.2244148 ,  7547.5439533 ,\n",
       "        7473.1250178 ,  6373.7987883 , 26928.841146  ,  1998.287769  ,\n",
       "       17662.5181212 ,  7158.6811655 , 11459.7034145 ,  4497.0138595 ,\n",
       "        8463.6441776 , 28454.1816222 ,  3605.9933557 ,  2800.8150891 ,\n",
       "       14119.9316205 , 13716.2840287 , 41408.3339724 ,  4833.6564656 ,\n",
       "        5548.5998632 , 24310.3906152 ,  3113.3798823 ,  4898.9252019 ,\n",
       "       10698.4118064 , 14419.0548005 ,  6795.6869775 ,  4376.8383645 ,\n",
       "       12674.3248565 , 46962.7204225 , 16240.1634499 , 18638.2834575 ,\n",
       "       10116.0846832 , 43591.5055822 ,  6322.1540977 , 10989.3217558 ,\n",
       "        5797.1203835 ,  1188.785779  ,  9197.5179653 , 13685.953424  ,\n",
       "        7227.5404097 ,  6225.015051  ,  6658.8957504 ,  8818.3763407 ,\n",
       "        6827.5285923 ,  8726.5661799 , 14402.138796  ,  7406.6048956 ,\n",
       "        6660.8397628 ,  7830.146061  , 13364.4648488 ,  6404.2778475 ,\n",
       "       13678.503584  , 14212.9448715 , 20095.5333012 , 12078.5697877 ,\n",
       "        7382.743064  ,  3619.693067  ,  6544.9346878 ,  8757.0640636 ,\n",
       "       14592.520154  ,  7127.3115047 ,  4836.100498  ,  7016.4465222 ,\n",
       "       13984.0996107 , 34406.4922984 ,  6379.097101  , 13903.5839586 ,\n",
       "        6277.2198158 , 38208.5934237 ,  7179.0427107 , 10020.7240383 ,\n",
       "       11717.8931479 , 10282.554773  ,  4776.7354272 ,  9607.2479964 ,\n",
       "        3092.4620977 ,  7902.2695019 , 19427.099371  , 46431.622723  ,\n",
       "        4472.9127877 ,  3453.6318527 ,  6981.9362358 ,  1720.6780325 ,\n",
       "        8783.0595471 ,  3734.61923925,  8256.5097144 ,  6504.6818568 ,\n",
       "        8845.358654  , 26579.6937317 , 46089.8185465 , 16240.7359599 ,\n",
       "        6689.0039874 , 11636.716057  , 42933.209862  ,  9211.2839435 ,\n",
       "       39457.1338915 ,  1372.292619  , 39511.2821298 ,  5142.5265898 ,\n",
       "       13440.2341568 ,  5695.8985541 , 40729.0605628 ,  8276.6472255 ,\n",
       "        9840.5088216 , 10553.4354776 ,  4285.54717   , 18619.8383971 ,\n",
       "       12601.3563188 ,  9228.3682491 , 18972.8904986 , 15601.4388135 ,\n",
       "        9586.0883137 ,  3956.7941428 , 10815.8068934 , 21809.5926484 ,\n",
       "        4368.1330644 ,  1986.214121  ,  2691.0908355 , 47047.3766251 ,\n",
       "       10415.8776784 ,  4853.0513959 , 15832.560744  , 13544.0023389 ,\n",
       "       34605.6245304 ,  6588.8341475 ,  5278.6230998 ,  8897.1819696 ,\n",
       "        2201.333008  ,  4861.191282  , 20902.5016705 , 17109.6787821 ,\n",
       "       13786.7031193 ,  2877.218422  ,  3210.9793135 , 13580.4474812 ,\n",
       "       11165.6058356 , 14872.3039974 , 20169.4000143 ,  6742.6308161 ,\n",
       "       16674.3681432 ,  2669.695809  , 11668.2666896 ,  7886.3057591 ,\n",
       "       12004.4331039 ,  2422.591568  , 11514.9501439 , 46189.2182983 ,\n",
       "        6500.9335509 , 10516.7179582 ,  2101.9827155 ,  9838.2028047 ,\n",
       "        5060.2166579 , 12154.6261281 , 47090.0122625 , 18130.3399508 ,\n",
       "        9168.374552  , 44044.0885681 , 17901.0379002 , 10142.0796746 ,\n",
       "       10556.1361918 ,  5865.987885  , 28444.4658065 ,  4620.8272835 ,\n",
       "       13775.6267624 ,  1975.193517  , 17111.5577448 ,  3793.2946162 ,\n",
       "       24694.8753485 , 11060.8669084 ,  6163.2793019 , 41881.2831466 ,\n",
       "        5798.0918173 ,  5122.1677932 , 29010.2908768 ,  2435.6775102 ,\n",
       "       13587.1582812 ,  3229.157411  , 11756.2736002 ,  3291.037939  ,\n",
       "        6898.6061932 ,  6374.8608836 , 46769.3061197 , 11698.0978023 ,\n",
       "       44006.4181023 , 38413.2945509 ,  5947.6693855 , 12382.7639737 ,\n",
       "        1786.5908605 ,  3718.1244577 ,  3253.089918  ,  9237.698223  ,\n",
       "       45630.0197784 , 11579.4174796 ,  1733.162343  , 15068.5876572 ,\n",
       "        2249.449658  , 12301.6535866 ,  8688.3140189 ,  1955.428842  ,\n",
       "        3540.4283145 , 38737.7588868 ,  7518.3902512 ,  2222.9839529 ,\n",
       "       40581.0404572 , 14261.1987001 , 42732.5335585 , 11774.2422331 ,\n",
       "        8113.8766388 ,  3018.601312  ,  2206.797334  , 12393.3415013 ,\n",
       "        5750.8001663 ,  2924.106055  , 12124.1974389 ,  7192.9970685 ,\n",
       "        6571.4754079 , 10459.3715412 ,  5024.3109019 , 42547.9622747 ,\n",
       "        3889.2461624 , 12689.828222  ,  6007.65154018, 18851.0777187 ,\n",
       "       11135.0859497 ,  5404.3742989 , 17355.2813571 , 13435.1605888 ,\n",
       "       20107.2370791 , 18172.8079794 ])"
      ]
     },
     "execution_count": 60,
     "metadata": {},
     "output_type": "execute_result"
    }
   ],
   "source": [
    "x_test_pred"
   ]
  },
  {
   "cell_type": "code",
   "execution_count": 61,
   "id": "f6d4c089",
   "metadata": {},
   "outputs": [
    {
     "data": {
      "text/plain": [
       "0.9740035288358928"
      ]
     },
     "execution_count": 61,
     "metadata": {},
     "output_type": "execute_result"
    }
   ],
   "source": [
    "rfr.score(X_train,y_train)"
   ]
  },
  {
   "cell_type": "code",
   "execution_count": 62,
   "id": "43e459db",
   "metadata": {},
   "outputs": [
    {
     "data": {
      "text/plain": [
       "0.8610499930072613"
      ]
     },
     "execution_count": 62,
     "metadata": {},
     "output_type": "execute_result"
    }
   ],
   "source": [
    "rfr.score(X_test,y_test)"
   ]
  },
  {
   "cell_type": "code",
   "execution_count": 63,
   "id": "2105bd51",
   "metadata": {},
   "outputs": [
    {
     "name": "stdout",
     "output_type": "stream",
     "text": [
      "RandomForestRegressor Training Score 97.40% \n",
      "RandomForestRegressor Testing Score 86.10% \n"
     ]
    }
   ],
   "source": [
    "print('RandomForestRegressor Training Score %.2f%% '%(rfr.score(X_train,y_train)*100))\n",
    "print('RandomForestRegressor Testing Score %.2f%% '%(rfr.score(X_test,y_test)*100))"
   ]
  },
  {
   "cell_type": "markdown",
   "id": "f916fd67",
   "metadata": {},
   "source": [
    "## Evaluasi RandomForestRegressor"
   ]
  },
  {
   "cell_type": "code",
   "execution_count": 64,
   "id": "3011e50b",
   "metadata": {},
   "outputs": [
    {
     "name": "stdout",
     "output_type": "stream",
     "text": [
      "Train_score :  0.9740035288358928\n",
      "Test_score :  0.8610499930072613\n"
     ]
    }
   ],
   "source": [
    "# r2_score\n",
    "train_score = r2_score(y_train, x_train_pred)\n",
    "test_score = r2_score(y_test, x_test_pred)\n",
    "print('Train_score : ',train_score)\n",
    "print('Test_score : ', test_score)"
   ]
  },
  {
   "cell_type": "code",
   "execution_count": 65,
   "id": "3d7da899",
   "metadata": {},
   "outputs": [
    {
     "name": "stdout",
     "output_type": "stream",
     "text": [
      "Mean Absolute Error Train :  1062.05635004343\n",
      "Mean Absolute Error Test :  2763.9035510320477\n"
     ]
    }
   ],
   "source": [
    "# mean absolute error\n",
    "mae_train = mean_absolute_error(y_train, x_train_pred)\n",
    "mae_test = mean_absolute_error(y_test, x_test_pred)\n",
    "print(\"Mean Absolute Error Train : \", mae_train)\n",
    "print(\"Mean Absolute Error Test : \", mae_test)"
   ]
  },
  {
   "cell_type": "code",
   "execution_count": 66,
   "id": "c2c8a5f3",
   "metadata": {},
   "outputs": [
    {
     "name": "stdout",
     "output_type": "stream",
     "text": [
      "Mean Squared Error Train :  3665144.546275771\n",
      "Mean Squared Error Test :  22158283.29210692\n"
     ]
    }
   ],
   "source": [
    "# Mean squared error \n",
    "mse_train = mean_squared_error(y_train, x_train_pred)\n",
    "mse_test = mean_squared_error(y_test, x_test_pred)\n",
    "print(\"Mean Squared Error Train : \", mse_train)\n",
    "print(\"Mean Squared Error Test : \", mse_test)"
   ]
  },
  {
   "cell_type": "code",
   "execution_count": 67,
   "id": "40964ab8",
   "metadata": {},
   "outputs": [
    {
     "name": "stdout",
     "output_type": "stream",
     "text": [
      "Root Mean Squared Error Train :  1914.4567235317102\n",
      "Root Mean Squared Error Test :  4707.258575020807\n"
     ]
    }
   ],
   "source": [
    "# Root Mean squared error\n",
    "rmse_train = np.sqrt(mean_squared_error(y_train, x_train_pred))\n",
    "rmse_test = np.sqrt(mean_squared_error(y_test, x_test_pred))\n",
    "print(\"Root Mean Squared Error Train : \", rmse_train)\n",
    "print(\"Root Mean Squared Error Test : \", rmse_test)"
   ]
  },
  {
   "cell_type": "code",
   "execution_count": 94,
   "id": "9b377545",
   "metadata": {},
   "outputs": [
    {
     "name": "stdout",
     "output_type": "stream",
     "text": [
      "[28324.6713538]\n",
      "The insurence cost is in USD 28324.67135380001\n"
     ]
    }
   ],
   "source": [
    "input_data = (60,1,25.84,0,1,3)\n",
    "input_data_as_numpy_array = np.asarray(input_data)\n",
    "input_data_reshaped = input_data_as_numpy_array.reshape(1,-1)\n",
    "prediction = rfr.predict(input_data_reshaped)\n",
    "print(prediction)\n",
    "print('The insurence cost is in USD', prediction[0])"
   ]
  },
  {
   "cell_type": "markdown",
   "id": "c2528856",
   "metadata": {},
   "source": [
    "## Xtreme Gradient Boosting"
   ]
  },
  {
   "cell_type": "code",
   "execution_count": 70,
   "id": "d292e538",
   "metadata": {},
   "outputs": [
    {
     "name": "stdout",
     "output_type": "stream",
     "text": [
      "Requirement already satisfied: xgboost in c:\\users\\surhe\\anaconda3\\lib\\site-packages (1.6.1)\n",
      "Requirement already satisfied: numpy in c:\\users\\surhe\\anaconda3\\lib\\site-packages (from xgboost) (1.22.4)\n",
      "Requirement already satisfied: scipy in c:\\users\\surhe\\anaconda3\\lib\\site-packages (from xgboost) (1.7.3)\n"
     ]
    }
   ],
   "source": [
    "!pip install xgboost\n",
    "from xgboost import XGBRegressor"
   ]
  },
  {
   "cell_type": "code",
   "execution_count": 71,
   "id": "da9e1852",
   "metadata": {},
   "outputs": [],
   "source": [
    "xgb_r= XGBRegressor()"
   ]
  },
  {
   "cell_type": "code",
   "execution_count": 72,
   "id": "acc351d8",
   "metadata": {},
   "outputs": [
    {
     "data": {
      "text/plain": [
       "XGBRegressor(base_score=0.5, booster='gbtree', callbacks=None,\n",
       "             colsample_bylevel=1, colsample_bynode=1, colsample_bytree=1,\n",
       "             early_stopping_rounds=None, enable_categorical=False,\n",
       "             eval_metric=None, gamma=0, gpu_id=-1, grow_policy='depthwise',\n",
       "             importance_type=None, interaction_constraints='',\n",
       "             learning_rate=0.300000012, max_bin=256, max_cat_to_onehot=4,\n",
       "             max_delta_step=0, max_depth=6, max_leaves=0, min_child_weight=1,\n",
       "             missing=nan, monotone_constraints='()', n_estimators=100, n_jobs=0,\n",
       "             num_parallel_tree=1, predictor='auto', random_state=0, reg_alpha=0,\n",
       "             reg_lambda=1, ...)"
      ]
     },
     "execution_count": 72,
     "metadata": {},
     "output_type": "execute_result"
    }
   ],
   "source": [
    "xgb_r.fit(X_train,y_train)"
   ]
  },
  {
   "cell_type": "code",
   "execution_count": 73,
   "id": "5fe744f4",
   "metadata": {},
   "outputs": [],
   "source": [
    "xgb_r_train = xgb_r.predict(X_train)"
   ]
  },
  {
   "cell_type": "code",
   "execution_count": 74,
   "id": "ac009ff3",
   "metadata": {},
   "outputs": [
    {
     "data": {
      "text/plain": [
       "array([ 2762.9644 ,  6803.221  , 12765.436  ,  6260.42   ,  5390.5923 ,\n",
       "        2305.622  , 36131.266  , 13241.66   ,  6614.614  , 13169.255  ,\n",
       "        8737.643  , 12643.361  , 48905.203  ,  3357.166  ,  7798.4297 ,\n",
       "       14241.711  , 14523.512  ,  1621.4474 ,  6901.5605 ,  2566.7695 ,\n",
       "       11640.757  , 17734.64   , 11364.062  , 41159.78   ,  5155.6167 ,\n",
       "       34103.082  , 16611.973  , 11326.533  ,  8892.393  , 44332.082  ,\n",
       "        8896.012  ,  4066.999  ,  8967.363  , 18515.902  , 36280.207  ,\n",
       "       18763.633  , 24252.186  , 38959.39   ,  4575.3857 , 17237.08   ,\n",
       "        3082.2402 , 36101.195  ,  4959.8174 , 11775.823  ,  1870.9772 ,\n",
       "       41975.168  ,  8795.902  ,  4785.904  ,  3786.2966 ,  9033.084  ,\n",
       "        9553.107  ,  7662.9844 , 11582.204  ,  2942.1597 ,  2547.9226 ,\n",
       "        3130.6143 ,  4751.882  ,  7602.117  , 34400.21   , 13194.506  ,\n",
       "        7489.4546 , 24862.768  , 11400.391  ,  2838.2634 , 11224.554  ,\n",
       "       10915.316  ,  4254.213  ,  1123.7115 , 43765.69   ,  7850.032  ,\n",
       "       26662.54   ,  3255.1467 , 23359.434  ,  5457.3525 , 11378.394  ,\n",
       "       17603.312  , 33597.195  ,  9597.485  ,  7511.318  ,  1516.2003 ,\n",
       "        4121.1377 ,  8655.586  ,  1707.8854 , 10015.26   ,  1610.6531 ,\n",
       "        3546.4854 , 40144.11   ,  6464.575  ,  7627.4995 ,  3635.6772 ,\n",
       "       21252.797  , 10379.591  , 12634.842  ,  5001.5425 ,  6010.077  ,\n",
       "        5356.553  ,  1881.1406 ,  9429.127  , 21644.42   ,  5139.13   ,\n",
       "       46582.695  ,  9821.245  ,  5838.108  ,  3416.5178 ,  6225.338  ,\n",
       "       39540.875  ,  1823.6018 , 10954.13   ,  9394.069  ,  8563.21   ,\n",
       "        2465.219  , 11603.879  , 13028.079  , 35359.85   , 11750.902  ,\n",
       "        7792.927  , 13896.14   , 15263.954  , 36438.02   ,  7733.3345 ,\n",
       "       11553.385  , 20215.76   ,  2958.7878 , 35920.445  ,  4603.3325 ,\n",
       "       19580.186  , 19323.846  ,  4257.2583 , 10414.28   , 10439.6045 ,\n",
       "        6128.73   ,  2180.3523 ,  1129.0498 ,  2432.1099 ,  3279.8076 ,\n",
       "        1772.3878 , 14125.181  ,  3704.7993 ,  7665.4536 ,  8808.263  ,\n",
       "       12672.72   ,  6435.8076 , 13288.911  ,  1997.7456 ,  8964.307  ,\n",
       "        5279.5195 ,  8718.281  , 12536.657  , 11441.15   , 21056.355  ,\n",
       "       12927.436  ,  8654.307  ,  7624.6294 , 25059.63   ,  4821.6836 ,\n",
       "       10896.948  ,  6860.5366 ,  4403.2197 , 21653.26   , 10583.507  ,\n",
       "       10063.855  , 13367.009  , 10053.606  ,  5435.103  ,  3511.8757 ,\n",
       "        4536.994  ,  6873.5474 ,  1713.0789 ,  7427.2803 ,  3079.539  ,\n",
       "        4927.909  , 12212.619  ,  3613.979  ,  4232.501  ,  2532.9277 ,\n",
       "        2144.6191 ,  4074.6492 , 16724.139  , 21139.66   , 38032.34   ,\n",
       "       12934.103  ,  9566.171  , 44576.523  ,  1383.6813 , 12372.1875 ,\n",
       "        1805.3441 ,  5255.385  , 17273.553  , 10940.2705 ,  5136.4087 ,\n",
       "       13882.483  ,  9745.504  , 39688.363  , 29895.021  ,  6488.235  ,\n",
       "       12106.125  , 19631.11   ,  7672.2324 ,  8988.352  ,  4188.5215 ,\n",
       "        1451.985  , 25329.633  , 33510.44   , 17742.193  , 11585.701  ,\n",
       "        6830.4873 , 24515.73   , 25036.67   ,  7982.368  , 17290.312  ,\n",
       "       39785.91   ,  4562.975  , 23493.988  ,  9315.881  , 24323.375  ,\n",
       "       17503.113  , 12610.3545 ,  9561.202  , 13753.889  , 13241.531  ,\n",
       "       33869.812  ,  2401.42   , 10400.486  , 11117.789  ,  3007.6553 ,\n",
       "        6521.7617 , 24912.375  ,  1606.1002 ,  2510.6306 , 10923.739  ,\n",
       "       13419.32   ,  6711.578  ,  1505.4818 , 59344.492  ,  3977.3538 ,\n",
       "       10839.147  , 17157.217  ,  2617.9724 ,  5148.763  , 24790.871  ,\n",
       "       16548.377  ,  5888.8804 , 46340.062  , 29572.975  , 11581.615  ,\n",
       "        1738.7375 , 10124.86   , 16387.885  ,  6520.9136 ,  1680.2246 ,\n",
       "        9428.264  , 15055.1875 ,  7287.1104 , 11526.286  ,  9475.596  ,\n",
       "       13188.977  ,  4455.288  ,  1650.3632 ,  2506.6997 , 34609.727  ,\n",
       "        6554.881  , 13846.822  ,  2727.4404 , 41591.832  ,  2448.716  ,\n",
       "        7633.404  ,  9000.093  , 11192.964  ,  8038.036  ,  1770.8219 ,\n",
       "        7356.475  , 12017.06   ,  8822.205  ,  2334.3027 , 18850.979  ,\n",
       "       12621.074  , 11505.018  ,  1998.0902 ,  4167.0854 , 13306.518  ,\n",
       "        2192.656  ,  4437.0664 ,  5437.9487 , 13383.495  ,  1314.1711 ,\n",
       "        9595.009  ,  2412.1506 ,  2379.483  ,  6873.8438 ,  4495.7783 ,\n",
       "        2747.5803 , 12437.565  ,  9169.905  , 48098.73   , 10349.135  ,\n",
       "       35508.945  , 15322.044  , 14007.1045 ,  6810.9653 ,  4817.303  ,\n",
       "        3821.9468 ,  8486.83   , 15606.06   ,  3515.3936 ,  2607.165  ,\n",
       "        3141.3806 , 11036.147  ,  3596.2957 , 13436.095  ,  9012.059  ,\n",
       "        6574.963  , 12410.076  , 27159.953  , 11257.218  , 10635.938  ,\n",
       "       19635.365  ,  2767.3135 ,  2887.4385 ,  8103.9854 ,   959.31146,\n",
       "        6659.7695 ,  1290.5397 ,  6510.3955 , 19623.47   ,  8183.8286 ,\n",
       "        4027.4001 ,  4585.236  , 13299.169  ,  3419.6912 ,  2228.9565 ,\n",
       "        1114.726  ,  8770.735  ,  8828.073  ,  2624.6824 ,  6056.901  ,\n",
       "        4953.7036 ,  8169.0728 , 41928.223  ,  4687.6963 ,  1309.4966 ,\n",
       "       11590.383  ,  6424.222  ,  7214.6006 , 18887.727  ,  9577.766  ,\n",
       "        3352.0237 ,  3987.94   , 14743.177  , 34516.918  , 12882.9375 ,\n",
       "        7113.4297 ,  4418.019  ,  1537.1593 , 15967.24   ,  4225.3037 ,\n",
       "        2982.062  ,  3355.0312 , 18256.662  , 15050.286  , 46924.16   ,\n",
       "       36502.008  , 25521.664  ,  1859.2048 , 17321.076  , 10758.361  ,\n",
       "        6532.3945 ,  6679.9116 ,  1752.8434 ,  8345.314  , 45991.72   ,\n",
       "       17315.041  ,  2177.3394 , 13617.992  , 38845.33   ,  5137.423  ,\n",
       "       18706.895  , 25041.309  ,  7637.9287 ,  8216.581  ,  6951.651  ,\n",
       "        2751.1477 , 12483.44   , 25943.52   ,  3368.9736 , 12377.394  ,\n",
       "       14499.72   , 15260.571  , 14365.56   , 18056.127  , 19075.547  ,\n",
       "        6759.5537 ,  9290.256  , 44028.336  , 10688.0205 ,  9136.475  ,\n",
       "       11216.14   ,  7618.2046 ,  6103.526  ,  4820.332  , 21584.32   ,\n",
       "       18332.344  , 18632.762  , 12319.284  ,  1303.4579 ,  4810.8535 ,\n",
       "        1914.33   , 10884.243  ,  7913.4673 ,  6637.1406 , 37874.82   ,\n",
       "       10516.22   ,  2133.607  , 21468.656  , 12457.173  ,  5277.824  ,\n",
       "       12634.508  , 10547.507  , 10296.932  ,  6660.667  ,  6681.411  ,\n",
       "        1763.8558 , 49528.383  , 14436.626  , 13044.3545 ,  5959.642  ,\n",
       "        3982.7773 , 11072.218  ,  7672.2324 , 14919.251  , 10192.388  ,\n",
       "        1562.3616 ,  1832.8591 ,  8365.15   ,  3531.9956 ,  4567.093  ,\n",
       "       10686.982  , 12217.8955 , 15794.929  ,  1802.5343 ,  5867.7456 ,\n",
       "        4929.0435 ,  8160.2036 , 25409.227  ,  9758.056  , 13002.078  ,\n",
       "       19285.87   , 43945.035  ,  3255.4785 , 44921.387  , 11684.949  ,\n",
       "        8179.7217 ,  6030.3867 ,  4352.555  , 37537.3    , 11426.192  ,\n",
       "       10351.676  ,  4871.4556 ,  2082.339  , 16194.704  , 20823.576  ,\n",
       "        3475.5188 ,  5495.1035 ,  1341.4099 , 10912.46   , 11657.795  ,\n",
       "        4676.289  ,  4765.7524 , 11734.217  , 16717.738  , 14278.146  ,\n",
       "       35929.117  , 13235.151  ,  8602.952  , 11763.911  ,  8760.101  ,\n",
       "        7900.657  , 14414.031  , 17588.229  , 40064.59   ,  9975.294  ,\n",
       "        8987.889  , 32969.25   ,  2236.7886 ,  3709.0469 ,  4024.3196 ,\n",
       "        9422.17   , 46981.664  , 39623.58   , 34904.555  , 11579.816  ,\n",
       "       42797.664  , 48637.46   , 18704.59   , 17032.701  ,  3862.3013 ,\n",
       "       28873.375  ,  4911.6123 , 10220.955  ,  2446.3723 , 42654.84   ,\n",
       "       12858.391  ,  7322.371  , 12248.8545 ,  5090.71   ,  9377.104  ,\n",
       "       36428.723  ,  6270.3823 , 16395.34   , 10192.132  ,  1654.7972 ,\n",
       "       41040.066  , 14210.753  ,  4679.6694 ,  9709.162  , 18594.094  ,\n",
       "        7034.003  ,  2618.6606 ,  1695.0244 ,  8950.424  , 20698.607  ,\n",
       "        2445.8848 , 11906.769  , 24334.744  , 42144.797  , 11272.25   ,\n",
       "        2486.2192 ,  4236.498  , 21699.738  ,  9738.754  ,  2112.2104 ,\n",
       "       43924.348  ,  7969.389  , 44956.047  ,  4245.2266 , 12703.485  ,\n",
       "        2799.3162 , 35945.395  ,  4254.1553 ,  9852.892  , 10140.23   ,\n",
       "        8434.34   , 28600.434  , 12316.751  , 15903.168  , 29362.07   ,\n",
       "       45960.906  ,  4645.165  , 22454.465  , 11949.795  ,  5607.155  ,\n",
       "        6277.2085 , 12055.688  , 11093.266  ,  4915.422  ,  9793.219  ,\n",
       "        1646.958  ,  5278.458  , 10617.307  ,  3019.1682 , 12954.821  ,\n",
       "       58410.117  ,  9161.736  , 16818.969  , 33815.914  , 10470.369  ,\n",
       "       11895.291  , 11451.949  ,  2808.3562 , 21525.232  , 14588.429  ,\n",
       "       19843.363  ,  4558.1113 ,  1395.4812 , 38001.27   ,  7202.5737 ,\n",
       "       22217.941  , 23955.26   , 38409.223  ,  2476.1233 , 25423.77   ,\n",
       "       12019.373  ,  6433.0225 , 39079.17   , 19646.234  ,  9600.441  ,\n",
       "       36604.523  ,  9576.245  , 12631.836  ,  5480.2036 , 20775.195  ,\n",
       "        7097.962  , 13798.374  , 14017.252  , 17672.266  ,  2520.4514 ,\n",
       "        4140.2275 , 21991.006  ,  4426.0396 , 12724.589  , 12247.086  ,\n",
       "       13966.116  ,  9358.739  ,  5025.578  , 14948.369  , 19366.998  ,\n",
       "       21324.066  ,  5581.5815 , 35060.34   , 27024.346  ,  8679.133  ,\n",
       "        7165.142  ,  7238.393  ,  2494.6885 ,  5797.171  , 13772.757  ,\n",
       "       37409.92   ,  9665.567  ,  8353.427  ,  2741.068  , 10911.544  ,\n",
       "        2762.3225 ,  9947.387  , 13299.46   , 13504.165  ,  5806.182  ,\n",
       "       11537.086  ,  5171.1426 , 12360.148  ,  5816.4    ,  5276.367  ,\n",
       "        4553.937  ,  1558.5592 , 11425.979  ,  2355.4502 , 11902.169  ,\n",
       "        5617.2153 , 12948.814  ,  7244.6616 ,  7002.5815 , 53845.867  ,\n",
       "        5039.7163 ,  3880.2173 ,  9479.234  ,  5273.9717 , 11947.745  ,\n",
       "       10338.577  , 10899.8545 ,  9635.793  ,  8474.496  , 31067.193  ,\n",
       "        7923.845  ,  8659.07   , 29357.602  ,  2598.9326 ,  7764.912  ,\n",
       "       48504.062  ,  9960.948  ,  4283.0815 , 12580.929  ,  5828.3413 ,\n",
       "       47372.438  , 41201.266  , 21854.22   ,  1313.263  ,  9450.422  ,\n",
       "       22138.812  , 20171.225  , 11183.925  ,  4282.264  ,  2632.1633 ,\n",
       "       11288.033  ,  4408.2524 ,  5264.052  ,  2011.8131 , 20006.805  ,\n",
       "       23843.57   , 41766.215  ,  9220.647  , 15675.217  ,  8120.18   ,\n",
       "       47985.54   ,  6855.987  ,  3630.9404 , 13075.205  ,  6740.1733 ,\n",
       "       45995.67   , 11426.4375 ,  8249.482  ,  2247.037  ,  4241.579  ,\n",
       "        4880.2803 , 11428.644  , 19669.998  ,  8189.5933 ,  3639.0552 ,\n",
       "       17496.445  , 22605.316  , 11184.981  , 17504.018  , 10863.499  ,\n",
       "       40580.695  , 25703.896  , 38758.83   ,  4064.5464 ,  8911.401  ,\n",
       "        6262.4365 ,  2250.3547 ,  2674.017  , 17372.48   ,  5069.3413 ,\n",
       "        6278.041  ,  6853.607  ,  1667.1018 , 18943.48   , 13507.645  ,\n",
       "        8729.374  ,  3376.728  , 15522.92   ,  7379.4766 ,  1770.8219 ,\n",
       "        9692.225  , 13749.547  , 24350.29   , 34612.676  , 14447.967  ,\n",
       "        6869.656  , 14319.121  , 19066.703  , 14951.114  , 16483.54   ,\n",
       "       19212.389  , 23983.357  , 19264.18   ,  5144.887  , 22131.75   ,\n",
       "       11848.129  ,  2057.5063 , 11438.457  , 19968.486  ,  1574.192  ,\n",
       "        2615.6653 ,  1510.7698 ,  6780.3975 , 34334.05   ,  4216.8228 ,\n",
       "       12040.717  ,  5085.777  , 12001.898  , 16654.014  ,  9685.557  ,\n",
       "       41942.89   , 22527.377  ,  6193.91   , 25017.248  ,  9728.234  ,\n",
       "        6138.882  ,  6428.771  , 10292.129  , 11226.94   ,  9503.587  ,\n",
       "        5864.947  , 11683.501  ,  4641.9053 ,  3101.9033 , 20573.393  ,\n",
       "        2704.1628 ,  4720.2407 ,  8229.273  , 11141.422  , 14117.794  ,\n",
       "        2350.5093 ,  1538.5482 , 11136.013  , 13460.016  ,  6130.6196 ,\n",
       "        6870.6104 , 27150.441  , 42280.016  , 14059.846  , 17974.395  ,\n",
       "        2122.3855 , 24319.28   , 24038.729  , 24861.938  , 27450.02   ,\n",
       "       12237.167  ,  7559.242  ,  8153.9673 ,  2210.138  ,  3849.8237 ,\n",
       "        8365.984  , 11288.627  , 12009.253  ,  8113.0645 , 25011.53   ,\n",
       "        3009.414  , 16097.794  , 47244.95   , 11064.112  , 25008.611  ,\n",
       "        9526.396  , 48139.16   , 25996.594  ,  6490.0645 ,  9393.434  ,\n",
       "       27132.957  , 40909.344  , 35675.535  ,  4378.487  , 18747.387  ,\n",
       "        4073.7615 , 27582.182  , 27823.56   ,  6274.28   ,  5666.3496 ,\n",
       "       43566.438  ,  5914.1997 ,  2206.6028 ,  7643.5474 ,  5898.0166 ,\n",
       "        7201.8867 ,  8990.662  ,  3064.2075 ,  7394.7324 , 11244.583  ,\n",
       "       44251.254  ,  5578.4707 , 40017.76   , 14639.098  ,  6143.4365 ,\n",
       "       22468.484  , 38198.945  , 12717.722  , 38212.57   ,  6082.596  ,\n",
       "        3741.3376 , 13503.66   ,  5472.8306 ,  9101.2    , 34403.125  ,\n",
       "        8374.007  ,  1665.7532 , 28784.424  ,  5230.0137 , 43861.375  ,\n",
       "        6851.9883 ,  5734.12   ,  5013.0317 ,  8992.4375 , 35853.312  ,\n",
       "       17430.008  , 11769.39   ,  1755.7748 , 19980.773  ,  1271.937  ,\n",
       "        5005.078  , 18427.693  , 13238.789  ,  2430.2405 ,  7151.9473 ,\n",
       "        3561.1309 , 14022.26   , 25929.213  ,  8174.2285 ,  3167.8105 ,\n",
       "       37144.754  , 39999.75   ,  7334.429  , 15077.113  ,  6544.884  ,\n",
       "       15011.728  , 11617.776  ,  9284.457  , 21108.975  ,  9281.517  ,\n",
       "        6879.8203 , 19931.521  , 34544.47   ,  5159.4434 ,  1778.9136 ,\n",
       "       62095.914  ,  9361.177  ,  3006.9905 , 14004.625  ,  9522.917  ,\n",
       "        7808.4155 ,  1714.1697 ,  7103.5537 , 32215.35   ,  2101.2368 ,\n",
       "        2817.0142 , 38759.67   ,  2230.3218 , 12215.544  ,  7869.049  ,\n",
       "        8867.172  , 29688.398  ,  3326.2366 , 63247.98   , 11192.756  ,\n",
       "       12918.763  , 39940.984  ,  7567.318  ,  2733.598  ,  2955.3347 ,\n",
       "       23020.395  , 14174.814  ,  5249.522  ,  9288.858  ,  8598.811  ,\n",
       "       15922.15   , 37410.66   ,  6531.265  ,  5081.4033 ,  7674.451  ,\n",
       "       28262.164  ,  7768.1343 , 11917.819  , 45002.16   ,  8410.049  ,\n",
       "       11123.466  ,  3208.2822 , 11464.029  ,  3615.2212 ,  5596.3247 ,\n",
       "       34422.535  ,  1849.419  , 11408.564  , 32422.637  ,  1971.9545 ,\n",
       "       13946.202  ,  3731.1033 ,  7601.4185 ,  5539.6113 ,  1969.4165 ,\n",
       "        4819.416  ], dtype=float32)"
      ]
     },
     "execution_count": 74,
     "metadata": {},
     "output_type": "execute_result"
    }
   ],
   "source": [
    "xgb_r_train"
   ]
  },
  {
   "cell_type": "code",
   "execution_count": 75,
   "id": "c10532be",
   "metadata": {},
   "outputs": [],
   "source": [
    "xgb_r_test = xgb_r.predict(X_test)"
   ]
  },
  {
   "cell_type": "code",
   "execution_count": 76,
   "id": "9ce5c41a",
   "metadata": {},
   "outputs": [
    {
     "data": {
      "text/plain": [
       "array([ 9427.426  , 10399.915  , 46080.77   , 10464.061  ,  9394.038  ,\n",
       "        9170.304  ,  2230.6626 , 12143.453  ,  5503.465  ,  6111.6045 ,\n",
       "        7029.8184 , 24298.656  ,  8524.287  ,  6695.7056 , 27471.836  ,\n",
       "       13032.206  , 13319.935  ,  3365.3838 ,  5585.818  , 33350.25   ,\n",
       "       22839.646  , 19891.918  ,  9472.8    , 28938.66   ,  7709.9863 ,\n",
       "        8866.191  ,  4428.0312 ,  8111.504  ,  3125.1055 , 10187.3955 ,\n",
       "        7779.481  , 48511.617  , 14867.812  , 10444.113  , 15184.967  ,\n",
       "        4740.5195 , 10175.988  , 34066.96   , 38516.258  ,  -606.9937 ,\n",
       "        7789.339  ,  3740.347  , 20861.145  , 48042.723  , 35760.516  ,\n",
       "        2515.197  , 13187.114  ,  6138.882  ,  4726.853  , 12841.515  ,\n",
       "        3132.9363 ,  5248.995  , 32093.852  , 45852.746  , 11717.12   ,\n",
       "       11856.301  ,  6836.17   , 10355.773  ,  6961.3623 , 15180.318  ,\n",
       "         321.8037 , 43743.035  , 13863.673  , 19713.729  , 12369.879  ,\n",
       "        8076.8516 , 30694.559  , 41776.56   ,  4479.5024 ,  7762.116  ,\n",
       "       15010.366  , 11690.208  , 16603.186  , 13838.595  , 14463.459  ,\n",
       "       12454.177  , 10784.578  ,  8701.354  , 18358.062  , 47569.46   ,\n",
       "       10618.998  , 48221.645  ,  2595.797  , 11824.214  , 40755.355  ,\n",
       "       18823.652  ,  4659.3438 ,  1766.2279 , 14633.912  , 36835.31   ,\n",
       "       14112.411  , 11299.963  ,  7315.182  , 11364.316  , 10650.845  ,\n",
       "        9755.097  , 42986.9    , 44277.082  ,  6050.11   , 10351.44   ,\n",
       "        2984.9568 , 11505.83   ,  5474.1743 , 38402.754  , 29384.998  ,\n",
       "        4997.2495 ,  9675.917  ,  8250.997  , 11479.853  , 47341.93   ,\n",
       "       12806.667  ,  6514.9014 ,  9368.334  , 35228.656  , 47707.355  ,\n",
       "        6715.4517 ,  2903.6602 , 11486.505  , 30814.828  ,  9946.764  ,\n",
       "       41271.246  , 13229.674  , 13474.926  , 13424.535  , 10994.889  ,\n",
       "        6538.7803 , 27989.104  , 30165.06   , 48530.203  ,  2167.1716 ,\n",
       "       12127.079  ,  5266.8076 ,  6034.3853 ,  7194.2866 , 42858.086  ,\n",
       "       36633.844  , 21998.523  , 19873.006  , 25816.479  ,  5553.4663 ,\n",
       "        1357.6523 , 10773.503  , 17836.033  , 11408.534  ,  6693.1924 ,\n",
       "       16576.744  , 25993.559  , 14665.839  ,  2134.9514 , 10443.557  ,\n",
       "        2560.898  , 38296.6    , 10799.275  , 10588.694  ,  1745.5557 ,\n",
       "        9794.206  ,  2986.1592 ,   724.50525, 13171.64   , 10803.025  ,\n",
       "       10500.252  , 13112.433  , 12879.603  ,  8052.8716 ,  6480.4844 ,\n",
       "        9224.024  , 16142.209  , 13404.9    ,  8040.155  ,  1569.5599 ,\n",
       "        7804.925  ,  9198.74   , 10004.858  ,  2352.5278 ,  6771.839  ,\n",
       "        3359.0303 ,  4277.978  ,  6551.2676 , 26911.791  ,  1702.4615 ,\n",
       "       18680.195  ,  5716.759  , 11634.602  ,  2741.5344 ,  9845.771  ,\n",
       "       27414.594  ,  3967.5173 ,  2720.9077 , 14539.632  , 19431.992  ,\n",
       "       41842.273  ,  4740.9233 ,  5320.1846 , 24905.209  ,  3786.8171 ,\n",
       "        3194.014  ,  9548.853  , 14252.374  ,  6102.5205 ,  4617.649  ,\n",
       "       16559.777  , 47338.977  , 15273.469  , 18001.764  ,  9519.046  ,\n",
       "       39851.434  ,  4974.5674 , 11941.72   ,  4001.883  ,  1466.8612 ,\n",
       "        8673.009  , 14737.502  , 10009.799  ,  1416.4474 ,  6605.3213 ,\n",
       "        3864.8147 ,  5902.2812 , 10143.383  , 13240.51   ,  9860.222  ,\n",
       "        5880.4487 ,  9216.646  , 12947.533  ,  4070.4482 , 11946.05   ,\n",
       "       14205.453  , 23198.426  , 11931.493  ,  6669.2563 ,  2268.3088 ,\n",
       "       11133.061  ,  6572.6357 , 17563.383  ,  9873.145  ,  4324.8477 ,\n",
       "        6150.159  , 18897.629  , 34282.375  ,  7590.66   , 14123.001  ,\n",
       "       11874.4795 , 43674.414  ,  5599.3794 , 10990.416  ,  9882.562  ,\n",
       "       11147.092  ,  5482.5312 ,  8289.461  ,  2498.2642 ,  7342.049  ,\n",
       "       18098.97   , 43788.906  ,  3685.3862 ,  5030.1772 ,  3722.6687 ,\n",
       "        1713.0789 ,  8937.477  ,  1491.4553 ,  2445.8345 , 14635.283  ,\n",
       "        8308.111  , 26665.102  , 43958.06   , 14754.984  ,  6173.028  ,\n",
       "       11163.746  , 41401.76   ,  7540.338  , 44784.65   ,   893.7098 ,\n",
       "       42412.82   ,  4821.5493 , 13203.435  ,  7847.1113 , 39180.188  ,\n",
       "        9439.874  , 10654.672  , 12117.55   ,  3259.0742 , 16039.187  ,\n",
       "       10285.618  ,  9244.375  , 23863.496  , 18704.59   ,  8187.9253 ,\n",
       "        2237.436  ,  8235.228  , 22708.076  ,  3306.7864 ,  1213.274  ,\n",
       "        2763.8677 , 49191.953  , 10733.382  ,  5260.263  , 17713.926  ,\n",
       "       13569.484  , 34572.07   , 13706.819  ,  4975.775  ,  8452.631  ,\n",
       "        2432.1099 ,  2590.167  , 20535.834  , 17256.076  , 13766.321  ,\n",
       "        2568.382  ,  2259.3853 , 18410.135  ,  8069.646  , 14690.272  ,\n",
       "       20215.963  ,  4233.9473 , 18374.178  ,  1283.5392 , 11269.253  ,\n",
       "        6239.345  , 18645.162  ,  3059.725  ,  8204.147  , 49502.465  ,\n",
       "        8239.002  ,  8947.924  ,  2477.8955 , 10068.982  ,  3471.1262 ,\n",
       "       12740.223  , 48902.72   , 17056.15   ,  9038.834  , 44698.16   ,\n",
       "       18347.025  ,  8536.241  ,  9912.888  ,  2516.9973 , 29139.094  ,\n",
       "        3720.9463 , 15182.556  ,  1093.1533 , 17911.043  ,  4447.089  ,\n",
       "       25464.63   , 12207.104  ,  3078.924  , 45573.453  ,  6362.752  ,\n",
       "        5085.45   , 29482.133  ,  2624.5654 ,  9075.19   ,  3749.445  ,\n",
       "       17565.463  ,  3685.4302 ,  6111.3984 ,  6773.025  , 42117.863  ,\n",
       "       13192.085  , 31290.064  , 38285.11   ,  6769.983  , 22053.516  ,\n",
       "        1915.026  , 11050.757  ,  4072.9424 ,  7968.665  , 45959.746  ,\n",
       "        9900.075  ,  1480.6807 , 14778.846  ,  2783.3748 , 14445.984  ,\n",
       "        6187.4717 ,  4172.11   ,  1656.4115 , 41386.934  ,  8756.868  ,\n",
       "        2103.5342 , 42102.004  , 12534.027  , 47936.49   ,  9445.014  ,\n",
       "       11508.939  ,  3682.114  ,  1659.1439 , 20375.39   ,  9133.173  ,\n",
       "        3141.5244 ,  9940.184  ,  9925.889  , 12245.519  ,  7867.4087 ,\n",
       "        6814.837  , 43767.75   ,  2807.561  , 12756.354  ,  6150.8193 ,\n",
       "       18409.758  , 10680.536  ,  2988.5356 , 17827.496  , 11201.87   ,\n",
       "       15352.3125 , 18631.271  ], dtype=float32)"
      ]
     },
     "execution_count": 76,
     "metadata": {},
     "output_type": "execute_result"
    }
   ],
   "source": [
    "xgb_r_test"
   ]
  },
  {
   "cell_type": "code",
   "execution_count": 77,
   "id": "d17979a5",
   "metadata": {},
   "outputs": [
    {
     "data": {
      "text/plain": [
       "0.9964665894811178"
      ]
     },
     "execution_count": 77,
     "metadata": {},
     "output_type": "execute_result"
    }
   ],
   "source": [
    "xgb_r.score(X_train,y_train)"
   ]
  },
  {
   "cell_type": "code",
   "execution_count": 78,
   "id": "32ea690a",
   "metadata": {},
   "outputs": [
    {
     "data": {
      "text/plain": [
       "0.8219713606461712"
      ]
     },
     "execution_count": 78,
     "metadata": {},
     "output_type": "execute_result"
    }
   ],
   "source": [
    "xgb_r.score(X_test,y_test)"
   ]
  },
  {
   "cell_type": "code",
   "execution_count": 90,
   "id": "7661fb2a",
   "metadata": {},
   "outputs": [
    {
     "name": "stdout",
     "output_type": "stream",
     "text": [
      "Xtream Gradient Boosting Training Score 99.65% \n",
      "Xtream Gradient Boosting Testing Score 82.20% \n"
     ]
    }
   ],
   "source": [
    "print('Xtream Gradient Boosting Training Score %.2f%% '%(xgb_r.score(X_train,y_train)*100))\n",
    "print('Xtream Gradient Boosting Testing Score %.2f%% '%(xgb_r.score(X_test,y_test)*100))"
   ]
  },
  {
   "cell_type": "markdown",
   "id": "bf0b5514",
   "metadata": {},
   "source": [
    "# Evaluasi Xtream Gradient Boosting"
   ]
  },
  {
   "cell_type": "code",
   "execution_count": 80,
   "id": "2187c636",
   "metadata": {},
   "outputs": [
    {
     "name": "stdout",
     "output_type": "stream",
     "text": [
      "Train_score :  0.9964665894811178\n",
      "Test_score :  0.8219713606461712\n"
     ]
    }
   ],
   "source": [
    "# r2_score\n",
    "train_score = r2_score(y_train, xgb_r_train)\n",
    "test_score = r2_score(y_test, xgb_r_test)\n",
    "print('Train_score : ',train_score)\n",
    "print('Test_score : ', test_score)"
   ]
  },
  {
   "cell_type": "code",
   "execution_count": 81,
   "id": "e96bac9b",
   "metadata": {},
   "outputs": [
    {
     "name": "stdout",
     "output_type": "stream",
     "text": [
      "Mean Absolute Error Train :  403.8035862374174\n",
      "Mean Absolute Error Test :  3259.6006435019626\n"
     ]
    }
   ],
   "source": [
    "# mean absolute error\n",
    "mae_train = mean_absolute_error(y_train, xgb_r_train)\n",
    "mae_test = mean_absolute_error(y_test, xgb_r_test)\n",
    "print(\"Mean Absolute Error Train : \", mae_train)\n",
    "print(\"Mean Absolute Error Test : \", mae_test)"
   ]
  },
  {
   "cell_type": "code",
   "execution_count": 82,
   "id": "cc122181",
   "metadata": {},
   "outputs": [
    {
     "name": "stdout",
     "output_type": "stream",
     "text": [
      "Mean Squared Error Train :  498162.2394548308\n",
      "Mean Squared Error Test :  28390131.891944576\n"
     ]
    }
   ],
   "source": [
    "# Mean squared error \n",
    "mse_train = mean_squared_error(y_train, xgb_r_train)\n",
    "mse_test = mean_squared_error(y_test, xgb_r_test)\n",
    "print(\"Mean Squared Error Train : \", mse_train)\n",
    "print(\"Mean Squared Error Test : \", mse_test)"
   ]
  },
  {
   "cell_type": "code",
   "execution_count": 83,
   "id": "93720583",
   "metadata": {},
   "outputs": [
    {
     "name": "stdout",
     "output_type": "stream",
     "text": [
      "Root Mean Squared Error Train :  705.8060919649467\n",
      "Root Mean Squared Error Test :  5328.239098608899\n"
     ]
    }
   ],
   "source": [
    "# Root Mean squared error\n",
    "rmse_train = np.sqrt(mean_squared_error(y_train, xgb_r_train))\n",
    "rmse_test = np.sqrt(mean_squared_error(y_test, xgb_r_test))\n",
    "print(\"Root Mean Squared Error Train : \", rmse_train)\n",
    "print(\"Root Mean Squared Error Test : \", rmse_test)"
   ]
  },
  {
   "cell_type": "code",
   "execution_count": 95,
   "id": "6d6a51ba",
   "metadata": {},
   "outputs": [
    {
     "name": "stdout",
     "output_type": "stream",
     "text": [
      "[25304.752]\n",
      "The insurence cost is in USD 25304.752\n"
     ]
    }
   ],
   "source": [
    "input_data = (60,1,25.84,0,1,3)\n",
    "input_data_as_numpy_array = np.asarray(input_data)\n",
    "input_data_reshaped = input_data_as_numpy_array.reshape(1,-1)\n",
    "prediction = xgb_r.predict(input_data_reshaped)\n",
    "print(prediction)\n",
    "print('The insurence cost is in USD', prediction[0])"
   ]
  },
  {
   "cell_type": "code",
   "execution_count": 86,
   "id": "f2ec0d15",
   "metadata": {},
   "outputs": [
    {
     "data": {
      "text/plain": [
       "ExtraTreesRegressor()"
      ]
     },
     "execution_count": 86,
     "metadata": {},
     "output_type": "execute_result"
    }
   ],
   "source": [
    "from sklearn.ensemble import ExtraTreesRegressor\n",
    "selection = ExtraTreesRegressor()\n",
    "selection.fit(X, y)"
   ]
  },
  {
   "cell_type": "code",
   "execution_count": 87,
   "id": "05e44472",
   "metadata": {},
   "outputs": [
    {
     "name": "stdout",
     "output_type": "stream",
     "text": [
      "[0.12943104 0.01039298 0.19254727 0.02463245 0.62059197 0.0224043 ]\n"
     ]
    }
   ],
   "source": [
    "print(selection.feature_importances_)"
   ]
  },
  {
   "cell_type": "code",
   "execution_count": 88,
   "id": "10e79e1e",
   "metadata": {},
   "outputs": [
    {
     "data": {
      "image/png": "[encoded data removed]",
      "text/plain": [
       "<Figure size 864x576 with 1 Axes>"
      ]
     },
     "metadata": {},
     "output_type": "display_data"
    }
   ],
   "source": [
    "plt.figure(figsize = (12,8))\n",
    "plt.title(\"Most Influencing feature \")\n",
    "plt.ylabel('Features')\n",
    "feat_importances = pd.Series(selection.feature_importances_, index=X.columns)\n",
    "feat_importances.nlargest(20).plot(kind='barh',color='black')\n",
    "plt.show()"
   ]
  },
  {
   "cell_type": "code",
   "execution_count": null,
   "id": "d28a5731",
   "metadata": {},
   "outputs": [],
   "source": []
  }
 ],
 "metadata": {
  "kernelspec": {
   "display_name": "Python 3 (ipykernel)",
   "language": "python",
   "name": "python3"
  },
  "language_info": {
   "codemirror_mode": {
    "name": "ipython",
    "version": 3
   },
   "file_extension": ".py",
   "mimetype": "text/x-python",
   "name": "python",
   "nbconvert_exporter": "python",
   "pygments_lexer": "ipython3",
   "version": "3.9.12"
  }
 },
 "nbformat": 4,
 "nbformat_minor": 5
}
